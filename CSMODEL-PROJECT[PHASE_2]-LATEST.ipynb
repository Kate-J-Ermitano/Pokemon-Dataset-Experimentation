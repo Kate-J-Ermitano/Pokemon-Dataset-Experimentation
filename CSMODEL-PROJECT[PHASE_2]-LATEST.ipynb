{
 "cells": [
  {
   "cell_type": "markdown",
   "metadata": {
    "cell_id": "7d3955fb702a403285419a73fa0b47c6",
    "deepnote_cell_type": "markdown"
   },
   "source": [
    "<h1>📚 CSMODEL - PROJECT [PHASE 2] 📚</h1>"
   ]
  },
  {
   "cell_type": "markdown",
   "metadata": {
    "cell_id": "281047c17b09444285d87e5c8bb167aa",
    "deepnote_cell_type": "markdown"
   },
   "source": [
    "by <b>Group 1:</b>\n",
    "- DAYON, Elijah\n",
    "- ERMITANO, Kate Justine\n",
    "- LLAMADO, Jon\n",
    "\n",
    "<b>Instructor:</b> Sir Arren Matthew C. Antioquia"
   ]
  },
  {
   "cell_type": "markdown",
   "metadata": {
    "cell_id": "31e71234fedd409288abd5669981eee4",
    "deepnote_cell_type": "markdown"
   },
   "source": [
    "<h2>🚩 Review of PHASE 1 🚩</h2>"
   ]
  },
  {
   "cell_type": "markdown",
   "metadata": {
    "cell_id": "8c71bbdb2b1d4b7c977b323a3300576a",
    "deepnote_cell_type": "markdown"
   },
   "source": [
    "This is a continuation of the project that uses the **`Complete Pokemon Dataset (Updated 16.04.21)`** dataset submitted back in the 21st of November 2022.\n",
    "\n",
    "The link to the dataset is as follows: https://www.kaggle.com/datasets/mariotormo/complete-pokemon-dataset-updated-090420?resource=download by Mario Tormo Romero.\n",
    "\n",
    "The processes done in the first notebook are as follows: <b>📝 Dataset Description 📝, 🧽 Dataset Cleaning 🧽, 📊 Exploratory Data Analysis 📊, and 🤔 Research Question 🤔</b>. To review the first notebook, the Google Drive link can be accessed: https://drive.google.com/drive/folders/1fZw-4M6GmT9ROLmb5XPm6uyI65HDtOnq?usp=share_link\n",
    "<figure>\n",
    "    <img src=\"https://i.pinimg.com/564x/24/d1/01/24d101849738df521f17db9701ec63d2.jpg\" style=\"width: 80%\">\n",
    "    <figcaption style=\"text-align: center\">Pokemon Starters from Generation 1 to 8</figcaption>\n",
    "</figure>"
   ]
  },
  {
   "cell_type": "markdown",
   "metadata": {
    "cell_id": "82c83754858348e194b392b075ad4c3c",
    "deepnote_cell_type": "markdown"
   },
   "source": [
    "<h2>🤔 Research Question 🤔</h2>"
   ]
  },
  {
   "cell_type": "markdown",
   "metadata": {
    "cell_id": "15f253c900b74ad5b354609a5dc2cd72",
    "deepnote_cell_type": "markdown"
   },
   "source": [
    "<h3 style=\"color: #ff8d8c\">What is the relation between pokemon generation and type 1 element to health points, defense, special attack, special defense, and speed?</h3>"
   ]
  },
  {
   "cell_type": "markdown",
   "metadata": {
    "cell_id": "927a414c701c42afb67f5352d03f0f14",
    "deepnote_cell_type": "markdown"
   },
   "source": [
    "This research question aims to find which generation and type 1 element element is best to use based on the pokemons' statistics on total points, health points, defense, special attack, special defense, and speed. \n",
    "\n",
    "It may be difficult for persons to choose which pokemon is best to use because there are over 1000 pokemons as observed in the dataset. To rely only on one single pokemon with the strongest statistic is not the best solution because there are many different factors to choose which pokemon is best on certain situations. With that, a solution will be made by checking which generation and type 1 element is best to use based on the statistics provided in the pokemon dataframe, mainly health points, defense, special attack, special defense, and speed. "
   ]
  },
  {
   "cell_type": "markdown",
   "metadata": {
    "cell_id": "f5416fb2b25e4521a3e3a067e4edcd52",
    "deepnote_cell_type": "markdown",
    "tags": []
   },
   "source": [
    "<h2>📤 Reading the Dataset 📤</h2>"
   ]
  },
  {
   "cell_type": "markdown",
   "metadata": {
    "cell_id": "32edfd209a884b4dae483379c453d6a6",
    "deepnote_cell_type": "markdown",
    "tags": []
   },
   "source": [
    "To retrieve the dataset that was cleaned from the previous phase of the project, we implement the following code to read the `.csv` file."
   ]
  },
  {
   "cell_type": "code",
   "execution_count": null,
   "metadata": {
    "cell_id": "56d611bf715f45c5bcaeda1a24a94c46",
    "deepnote_cell_type": "code",
    "deepnote_to_be_reexecuted": false,
    "execution_millis": 1,
    "execution_start": 1670541204611,
    "source_hash": "9220f6f",
    "tags": []
   },
   "outputs": [],
   "source": [
    "# import pandas and numpy\n",
    "import pandas as pd\n",
    "import numpy as np"
   ]
  },
  {
   "cell_type": "code",
   "execution_count": null,
   "metadata": {
    "cell_id": "fecd7408ebe2438dab5137baacf600b8",
    "deepnote_cell_type": "code",
    "deepnote_to_be_reexecuted": false,
    "execution_millis": 90,
    "execution_start": 1670541204615,
    "source_hash": "ac51f2b8",
    "tags": []
   },
   "outputs": [],
   "source": [
    "# read and assign the .csv file to pokemon_df\n",
    "poke_df = pd.read_csv(\"cleaned-pokemon-dataset.csv\")"
   ]
  },
  {
   "cell_type": "markdown",
   "metadata": {
    "cell_id": "5173717006c64d57b1784833af639162",
    "deepnote_cell_type": "markdown",
    "tags": []
   },
   "source": [
    "To ensure that the correct file has been read, use the `.info()` function to review the contents of the dataset."
   ]
  },
  {
   "cell_type": "code",
   "execution_count": null,
   "metadata": {
    "cell_id": "666927a9900645b59ab674f38949bdba",
    "deepnote_cell_type": "code",
    "deepnote_to_be_reexecuted": false,
    "execution_millis": 59,
    "execution_start": 1670541204705,
    "source_hash": "b1694533",
    "tags": []
   },
   "outputs": [],
   "source": [
    "poke_df.info()"
   ]
  },
  {
   "cell_type": "markdown",
   "metadata": {
    "cell_id": "e096f003acf442bb97938069861c797e",
    "deepnote_cell_type": "markdown",
    "tags": []
   },
   "source": [
    "Once done, we can continue with the process of modifying our data to suit the needs of our chosen data modelling technique."
   ]
  },
  {
   "cell_type": "markdown",
   "metadata": {
    "cell_id": "678b387a0326401a98145d1c1ffcffd0",
    "deepnote_cell_type": "markdown"
   },
   "source": [
    "<h2>📦 Data Modelling 📦</h2>"
   ]
  },
  {
   "cell_type": "markdown",
   "metadata": {
    "cell_id": "0df7d7c7bd7e4ab089e09b9ae9df206f",
    "deepnote_cell_type": "markdown"
   },
   "source": [
    "<h3>🔧 Data Preprocessing 🔨</h3>"
   ]
  },
  {
   "cell_type": "markdown",
   "metadata": {
    "cell_id": "f5306ad3d36943f99f1778abe4dd2644",
    "deepnote_cell_type": "markdown"
   },
   "source": [
    "Before we start modelling the data, it is be wise to perform data preprocessing to transform the data into the appropriate representations. Techniques include: <b>(1) Querying, (2) Imputation, (3) Binning, (4) Outlier Detection, (5) One Hot Encoding, (6) Log Transformation, (7) Aggregation, (8) Column Transformation, (9) Feature Scaling,</b> and <b>(10) Feature Engineering</b>."
   ]
  },
  {
   "cell_type": "markdown",
   "metadata": {
    "cell_id": "a03518be4ccb45acbf9619566835bb19",
    "deepnote_cell_type": "markdown",
    "tags": []
   },
   "source": [
    "<h3>Querying</h3>"
   ]
  },
  {
   "cell_type": "markdown",
   "metadata": {
    "cell_id": "1e4e133c94ec48ceb160f8c3a75d7e07",
    "deepnote_cell_type": "markdown",
    "tags": []
   },
   "source": [
    "Querying is done by selecting observations based on a certain condition (e.g. Select all the pokemon with attack stats greater than 100, among others). There can be multiple conditions set to filter more data.\n",
    "\n",
    "However, since we are interested in modelling our data using all of the Pokemon in the dataset, this step can be skipped. We can now move on to imputation."
   ]
  },
  {
   "cell_type": "markdown",
   "metadata": {
    "cell_id": "31e2007575b241719ea4c03134bdb5d3",
    "deepnote_cell_type": "markdown",
    "tags": []
   },
   "source": [
    "<h3>Imputation</h3>"
   ]
  },
  {
   "cell_type": "markdown",
   "metadata": {
    "cell_id": "f3da8a8070dd4a6abd5bb189369da93f",
    "deepnote_cell_type": "markdown",
    "tags": []
   },
   "source": [
    "The process of imputation involves replacing all <b>Nan</b> or <b>Null</b> values with the mean or mode of the series the missing value belongs to. To ensure that our dataset does not contain missing values, use `isnull()` combined with `.any()` to retrieve the list of columns and the answer to whether it contains null missings or not."
   ]
  },
  {
   "cell_type": "code",
   "execution_count": null,
   "metadata": {
    "cell_id": "64f497f2f2bf443894087273f33542f2",
    "deepnote_cell_type": "code",
    "deepnote_to_be_reexecuted": false,
    "execution_millis": 41,
    "execution_start": 1670541204764,
    "source_hash": "8a8b81",
    "tags": []
   },
   "outputs": [],
   "source": [
    "poke_df.isnull().any()"
   ]
  },
  {
   "cell_type": "markdown",
   "metadata": {
    "cell_id": "dcd3684911bd491eaa5f9b2b1e63bcdb",
    "deepnote_cell_type": "markdown",
    "tags": []
   },
   "source": [
    "Like what was mentioned in the previous phase of the project, only <b>type_2, ability_2, ability_hidden</b>, and <b>egg_type_2</b> can contain missing values as some Pokemon are monotypes, have one ability, no hidden abiliy, and single egg type. \n",
    "\n",
    "Since the rest of the columns do not have null values, the process of imputation is done."
   ]
  },
  {
   "cell_type": "markdown",
   "metadata": {
    "cell_id": "a5c113f74928473a83d3d4dbb7eae83a",
    "deepnote_cell_type": "markdown",
    "tags": []
   },
   "source": [
    "<h3>Binning</h3>"
   ]
  },
  {
   "cell_type": "markdown",
   "metadata": {
    "cell_id": "44b26466e99140588edea87512883ff9",
    "deepnote_cell_type": "markdown",
    "tags": []
   },
   "source": [
    "Binning is grouping specific data together into general categories. For example, all the water starters from generations 1-8 (Squirtle, Totodile, Mudkip, Piplup, Oshawott, Froakie, Popplio, and Sobble) can be grouped as water starters in general."
   ]
  },
  {
   "cell_type": "code",
   "execution_count": null,
   "metadata": {
    "cell_id": "39fab010d1884693b57d500d1715a88c",
    "deepnote_cell_type": "code",
    "deepnote_to_be_reexecuted": false,
    "execution_millis": 399,
    "execution_start": 1670541204811,
    "source_hash": "7fe38cd2",
    "tags": []
   },
   "outputs": [],
   "source": [
    "poke_df"
   ]
  },
  {
   "cell_type": "markdown",
   "metadata": {
    "cell_id": "6ac668850509485b8f8cf35f46265735",
    "deepnote_cell_type": "markdown",
    "tags": []
   },
   "source": [
    "Upon inspecting the dataset, since we are interested in every single Pokemon and their individual statistics (HP, attack, defense, sp. attack, sp. defense, and speed), there is no need to perform binning. We want to determine who are those Pokemon belonging in the cluster with the strongest overall statistic. Binning could potentially lose all crucial information in finding out the best Pokemon.\n",
    "<figure>\n",
    "    <img src=\"https://external-content.duckduckgo.com/iu/?u=https%3A%2F%2Ftse1.mm.bing.net%2Fth%3Fid%3DOIP.oYFYbDjFYnalbDmsV7EntAHaFr%26pid%3DApi&f=1&ipt=60210ccb25e0429e5eb69f6ac25c36d20b321f680f91f11496d6225d6e9fef7d&ipo=images\" style=\"width: 40%\">\n",
    "    <figcaption style=\"text-align: center\">Who's that Pokemon?</figcaption>\n",
    "</figure>"
   ]
  },
  {
   "cell_type": "markdown",
   "metadata": {
    "cell_id": "087f1e86778b44ccb367e2937c4e7b83",
    "deepnote_cell_type": "markdown",
    "tags": []
   },
   "source": [
    "<h3>Outlier Detection</h3>"
   ]
  },
  {
   "cell_type": "markdown",
   "metadata": {
    "cell_id": "159f69db00274cf8a9afe6b042e37b8a",
    "deepnote_cell_type": "markdown",
    "tags": []
   },
   "source": [
    "Values such as 9999 or negative values do not make sense in the Pokemon world. We can inspect numerical values for outliers. We can check the height_m and weight_kg columns by its primary type for unusual numbers using a boxplot. We can use the library `matplotlib` to plot a box plot."
   ]
  },
  {
   "cell_type": "code",
   "execution_count": null,
   "metadata": {
    "cell_id": "7949c5a3b0e94807b2e78e269f4037ed",
    "deepnote_cell_type": "code",
    "deepnote_to_be_reexecuted": false,
    "execution_millis": 1281,
    "execution_start": 1670541205209,
    "source_hash": "a11eee2f",
    "tags": []
   },
   "outputs": [],
   "source": [
    "%matplotlib inline\n",
    "# import the library\n",
    "import matplotlib as plt\n",
    "# set up a theme for all visuals\n",
    "plt.style.use('fivethirtyeight')"
   ]
  },
  {
   "cell_type": "code",
   "execution_count": null,
   "metadata": {
    "cell_id": "d132201c066f4bb68023f7b563c19efd",
    "deepnote_cell_type": "code",
    "deepnote_to_be_reexecuted": false,
    "execution_millis": 1204,
    "execution_start": 1670541206491,
    "source_hash": "7d5f5b2c",
    "tags": []
   },
   "outputs": [],
   "source": [
    "poke_df.boxplot(\"height_m\", by=\"type_1\", figsize=(12,6), color='#fc67a5')"
   ]
  },
  {
   "cell_type": "code",
   "execution_count": null,
   "metadata": {
    "cell_id": "1b8a680c893e484183ab2f4646c186cc",
    "deepnote_cell_type": "code",
    "deepnote_to_be_reexecuted": false,
    "execution_millis": 1117,
    "execution_start": 1670541207705,
    "source_hash": "f65f10c2",
    "tags": []
   },
   "outputs": [],
   "source": [
    "poke_df.boxplot(\"weight_kg\", by=\"type_1\", figsize=(12,6), color='#fc67a5')"
   ]
  },
  {
   "cell_type": "markdown",
   "metadata": {
    "cell_id": "5eab9ccd47414a578f4f060bcd2cb403",
    "deepnote_cell_type": "markdown",
    "tags": []
   },
   "source": [
    "Based on the boxplots above, we notice several outliers. However, considering that the Pokemon dataset is entirely fictional, we can give an exemption. Thus, there is no need to remove outliers."
   ]
  },
  {
   "cell_type": "code",
   "execution_count": null,
   "metadata": {
    "cell_id": "696f971f222c49d48e901f78548e19c8",
    "deepnote_cell_type": "code",
    "deepnote_to_be_reexecuted": false,
    "execution_millis": 5,
    "execution_start": 1670541208823,
    "source_hash": "3a1bfe47",
    "tags": []
   },
   "outputs": [],
   "source": [
    "copy_poke_df = poke_df.copy()"
   ]
  },
  {
   "cell_type": "markdown",
   "metadata": {
    "cell_id": "b92d04503a7347eabe5ee2d257bb12dd",
    "deepnote_cell_type": "markdown",
    "tags": []
   },
   "source": [
    "<h3>One Hot Encoding</h3>"
   ]
  },
  {
   "cell_type": "markdown",
   "metadata": {
    "cell_id": "75a18d4f5f7a465290c6145707531bb0",
    "deepnote_cell_type": "markdown",
    "tags": []
   },
   "source": [
    "This method converts categorical data into binary values (0 or 1) to represent a boolean value. This is useful for recommender systems. Upon inspection, there is no column that is categorical in nature where the values can be converted into boolean values. More, almost all the columns have more than two values."
   ]
  },
  {
   "cell_type": "code",
   "execution_count": null,
   "metadata": {
    "cell_id": "044963027edc44198be38d83c4964387",
    "deepnote_cell_type": "code",
    "deepnote_to_be_reexecuted": false,
    "execution_millis": 85,
    "execution_start": 1670541208833,
    "source_hash": "b1694533",
    "tags": []
   },
   "outputs": [],
   "source": [
    "poke_df.info()"
   ]
  },
  {
   "cell_type": "code",
   "execution_count": null,
   "metadata": {
    "cell_id": "10347fd9c004417884f4aec538a39d92",
    "deepnote_cell_type": "code",
    "deepnote_to_be_reexecuted": false,
    "execution_millis": 9,
    "execution_start": 1670541208915,
    "source_hash": "6f8f4b09",
    "tags": []
   },
   "outputs": [],
   "source": [
    "poke_df[\"type_number\"]"
   ]
  },
  {
   "cell_type": "code",
   "execution_count": null,
   "metadata": {
    "cell_id": "2180fe9989de4063a9f9c644fceb02ba",
    "deepnote_cell_type": "code",
    "deepnote_to_be_reexecuted": false,
    "execution_millis": 45,
    "execution_start": 1670541208971,
    "source_hash": "30e6a2b",
    "tags": []
   },
   "outputs": [],
   "source": [
    "poke_df[\"type_number\"].unique()"
   ]
  },
  {
   "cell_type": "markdown",
   "metadata": {
    "cell_id": "2ba2f94006c54cc5a041ab981cfeee71",
    "deepnote_cell_type": "markdown",
    "tags": []
   },
   "source": [
    "We can take a look at the `type_number` column as it contains values that are either 1 or 2. However, one hot encoding cannot be applied to numerical values. Thus, there is no way we can employ one hot encoding to further prepare our data. "
   ]
  },
  {
   "cell_type": "markdown",
   "metadata": {
    "cell_id": "28a8a8afbc2140659b5f0ed0d178b5bc",
    "deepnote_cell_type": "markdown",
    "tags": []
   },
   "source": [
    "<h3><strike>Log Transformation</strike> Box-Cox Transformation</h3>"
   ]
  },
  {
   "cell_type": "markdown",
   "metadata": {
    "cell_id": "e6d30b5e533a4eda9edf2256db55477a",
    "deepnote_cell_type": "markdown",
    "tags": []
   },
   "source": [
    "The data collected will not always be as perfect as those printed in the text books. Normalizing the values minimizes the effect of very large values on our data while maintaining its order in the dataset. Before we decide to perform log transformation, let us first take a look at the graph plotting the values from the attack series to determine if log transformation is the right method to use.\n",
    "\n",
    "First, import the following libraries to be used to determine if our data has a normal distribution:\n",
    "- `matplotlib.pyplot` - a library specializing in visualizing data.\n",
    "- `scipy.stats` - a library specializing in statistics.\n",
    "\n",
    "Moreover, we import the `shapiro` package to use the <b>Shapiro-Wilk</b> test. The Shapiro-Wilk test is a method to test for normality. It outputs the <b>test statistic</b> and the <b>p-value</b>. We then set our alpha value <b>α = 0.05</b> for comparison."
   ]
  },
  {
   "cell_type": "code",
   "execution_count": null,
   "metadata": {
    "cell_id": "d74af81da13f4c2caf37e59dd0e5f51f",
    "deepnote_cell_type": "code",
    "deepnote_to_be_reexecuted": false,
    "execution_millis": 1535,
    "execution_start": 1670541209016,
    "source_hash": "796933df",
    "tags": []
   },
   "outputs": [],
   "source": [
    "import matplotlib.pyplot as plt\n",
    "import scipy.stats as stats\n",
    "from scipy.stats import shapiro "
   ]
  },
  {
   "cell_type": "markdown",
   "metadata": {
    "cell_id": "49e2d82bb7a04512a9c434e2f83288f2",
    "deepnote_cell_type": "markdown",
    "tags": []
   },
   "source": [
    "Next, create a histogram and Q-Q plot for the attack series."
   ]
  },
  {
   "cell_type": "code",
   "execution_count": null,
   "metadata": {
    "cell_id": "d8dd652eb7674a338b3fcd37815b6f30",
    "deepnote_cell_type": "code",
    "deepnote_to_be_reexecuted": false,
    "execution_millis": 503,
    "execution_start": 1670541210600,
    "source_hash": "9f58bfd",
    "tags": []
   },
   "outputs": [],
   "source": [
    "plt.hist(poke_df[\"attack\"],bins=25, color=\"#ffed8b\")"
   ]
  },
  {
   "cell_type": "code",
   "execution_count": null,
   "metadata": {
    "cell_id": "033b87a29bbc42f7b4eaddcf24ecc39c",
    "deepnote_cell_type": "code",
    "deepnote_to_be_reexecuted": false,
    "execution_millis": 530,
    "execution_start": 1670541211108,
    "source_hash": "29a9155",
    "tags": []
   },
   "outputs": [],
   "source": [
    "stats.probplot(poke_df[\"attack\"], dist=\"norm\", plot=plt)"
   ]
  },
  {
   "cell_type": "code",
   "execution_count": null,
   "metadata": {
    "cell_id": "f0956343bb1449a9ae4d8a0112b45edd",
    "deepnote_cell_type": "code",
    "deepnote_to_be_reexecuted": false,
    "execution_millis": 4,
    "execution_start": 1670541211722,
    "source_hash": "2c3ada58",
    "tags": []
   },
   "outputs": [],
   "source": [
    "stat, pval = shapiro(poke_df[\"attack\"])\n",
    "print(\"{:2f}\".format(pval))"
   ]
  },
  {
   "cell_type": "markdown",
   "metadata": {
    "cell_id": "8c1777e8f2974b49b7c22390840be06b",
    "deepnote_cell_type": "markdown",
    "tags": []
   },
   "source": [
    "Since the p-value is less than α = 0.05, we then reject the null hypothesis. Thus, the data does not have a normal distribution. To normalize the data, we use log transformation using the `.log` function to calculate the logarithm of the series."
   ]
  },
  {
   "cell_type": "code",
   "execution_count": null,
   "metadata": {
    "cell_id": "1828c76c8d314c24bce410bdbffa58c9",
    "deepnote_cell_type": "code",
    "deepnote_to_be_reexecuted": false,
    "execution_millis": 0,
    "execution_start": 1670541211723,
    "source_hash": "4c2bdcd6",
    "tags": []
   },
   "outputs": [],
   "source": [
    "log_attack = np.log(poke_df[\"attack\"])"
   ]
  },
  {
   "cell_type": "markdown",
   "metadata": {
    "cell_id": "4fd70c5c8b864a8398f5d275641de699",
    "deepnote_cell_type": "markdown",
    "tags": []
   },
   "source": [
    "To ensure that if our data has a normal distribution, we use the Shapiro-Wilk test to calculate for the p-value. We will also create the null hypothesis and alternative hypothesis.\n",
    "\n",
    "- <b>H<sub>O</sub></b> - the data has a normal distribution.\n",
    "- <b>H<sub>A</sub></b> - the data does not have a normal distribution."
   ]
  },
  {
   "cell_type": "code",
   "execution_count": null,
   "metadata": {
    "cell_id": "926555cb07b84604aea037a0fbe0ac53",
    "deepnote_cell_type": "code",
    "deepnote_to_be_reexecuted": false,
    "execution_millis": 2,
    "execution_start": 1670541211724,
    "source_hash": "ec01ef3c",
    "tags": []
   },
   "outputs": [],
   "source": [
    "stat, pval = shapiro(log_attack)\n",
    "print(\"{:2f}\".format(pval))"
   ]
  },
  {
   "cell_type": "code",
   "execution_count": null,
   "metadata": {
    "cell_id": "f122dab05d0046f8937bbd13ba7c2f88",
    "deepnote_cell_type": "code",
    "deepnote_to_be_reexecuted": false,
    "execution_millis": 593,
    "execution_start": 1670541211725,
    "source_hash": "70eb9e29",
    "tags": []
   },
   "outputs": [],
   "source": [
    "stats.probplot(log_attack, dist=\"norm\", plot=plt)"
   ]
  },
  {
   "cell_type": "markdown",
   "metadata": {
    "cell_id": "fe32bcd48dc14ecf96f4863466982ab6",
    "deepnote_cell_type": "markdown",
    "tags": []
   },
   "source": [
    "However, when we use the log transformation method, our Q-Q plot reveals no sign of normal distribution, thus making the method failed to effectively normalize the data. To fix the issue, we use the `box-cox transformation` to transform our data. This outputs the normalized series and the lambda value."
   ]
  },
  {
   "cell_type": "code",
   "execution_count": null,
   "metadata": {
    "cell_id": "61878276f8de40fe93b996a9059a9e41",
    "deepnote_cell_type": "code",
    "deepnote_to_be_reexecuted": false,
    "execution_millis": 0,
    "execution_start": 1670541212363,
    "source_hash": "5f917b62",
    "tags": []
   },
   "outputs": [],
   "source": [
    "norm_attack, norm_lambda = stats.boxcox(poke_df[\"attack\"])"
   ]
  },
  {
   "cell_type": "markdown",
   "metadata": {
    "cell_id": "fb0a28e942d841e99bce757382367c59",
    "deepnote_cell_type": "markdown",
    "tags": []
   },
   "source": [
    "We repeat the process of creating the histogram to testing with the Shapiro-Wilk method to ensure if our data has been normalized."
   ]
  },
  {
   "cell_type": "code",
   "execution_count": null,
   "metadata": {
    "cell_id": "4e8b877f98a242a8981e57014090baa0",
    "deepnote_cell_type": "code",
    "deepnote_to_be_reexecuted": false,
    "execution_millis": 437,
    "execution_start": 1670541212407,
    "source_hash": "18bbb913",
    "tags": []
   },
   "outputs": [],
   "source": [
    "plt.hist(norm_attack,bins=25, color=\"#ffed8b\")"
   ]
  },
  {
   "cell_type": "code",
   "execution_count": null,
   "metadata": {
    "cell_id": "7b631675a2e8424d921f6c76d645d964",
    "deepnote_cell_type": "code",
    "deepnote_to_be_reexecuted": false,
    "execution_millis": 526,
    "execution_start": 1670541212909,
    "source_hash": "67ff1deb",
    "tags": []
   },
   "outputs": [],
   "source": [
    "stats.probplot(norm_attack, dist=\"norm\", plot=plt)"
   ]
  },
  {
   "cell_type": "code",
   "execution_count": null,
   "metadata": {
    "cell_id": "36d1f93ee99747ca86a359ca4f3e44e6",
    "deepnote_cell_type": "code",
    "deepnote_to_be_reexecuted": false,
    "execution_millis": 68,
    "execution_start": 1670541213434,
    "source_hash": "7c282978",
    "tags": []
   },
   "outputs": [],
   "source": [
    "stat, pval = shapiro(norm_attack)\n",
    "print(\"{:2f}\".format(pval))"
   ]
  },
  {
   "cell_type": "markdown",
   "metadata": {
    "cell_id": "bdb7b5d2d0a44c6a963ad7ee55656ad1",
    "deepnote_cell_type": "markdown",
    "tags": []
   },
   "source": [
    "Now that our p-value is greater than α = 0.05, we fail to reject the null hypothesis. Finally, we can conclude that the data has been normalized. We can repeat the process with the rest of the columns we are interested in."
   ]
  },
  {
   "cell_type": "markdown",
   "metadata": {
    "cell_id": "91c2d87aca784297846b910d9de10bdb",
    "deepnote_cell_type": "markdown",
    "tags": []
   },
   "source": [
    "<h4>Transform Total Points</h4>"
   ]
  },
  {
   "cell_type": "code",
   "execution_count": null,
   "metadata": {
    "cell_id": "08d7bb02422c4bd4bbb00891b3f78eef",
    "deepnote_cell_type": "code",
    "deepnote_to_be_reexecuted": false,
    "execution_millis": 603,
    "execution_start": 1670541213505,
    "source_hash": "32e8d0f",
    "tags": []
   },
   "outputs": [],
   "source": [
    "plt.hist(poke_df[\"total_points\"],bins=25, color=\"#9ef078\")"
   ]
  },
  {
   "cell_type": "code",
   "execution_count": null,
   "metadata": {
    "cell_id": "8cecaa24ecc94ea9ad0e3520ff665432",
    "deepnote_cell_type": "code",
    "deepnote_to_be_reexecuted": false,
    "execution_millis": 595,
    "execution_start": 1670541214116,
    "source_hash": "c6499e10",
    "tags": []
   },
   "outputs": [],
   "source": [
    "stats.probplot(poke_df[\"total_points\"], dist=\"norm\", plot=plt)"
   ]
  },
  {
   "cell_type": "code",
   "execution_count": null,
   "metadata": {
    "cell_id": "514df9d4f6344cc1a5991538645e1f78",
    "deepnote_cell_type": "code",
    "deepnote_to_be_reexecuted": false,
    "execution_millis": 6,
    "execution_start": 1670541214710,
    "source_hash": "8c3f4b65",
    "tags": []
   },
   "outputs": [],
   "source": [
    "stat, pval = shapiro(poke_df[\"total_points\"])\n",
    "print(\"{:2f}\".format(pval))"
   ]
  },
  {
   "cell_type": "code",
   "execution_count": null,
   "metadata": {
    "cell_id": "584af4a3614a4fa892e14e8740b4ac9e",
    "deepnote_cell_type": "code",
    "deepnote_to_be_reexecuted": false,
    "execution_millis": 4,
    "execution_start": 1670541214720,
    "source_hash": "1fad468",
    "tags": []
   },
   "outputs": [],
   "source": [
    "norm_total, norm_lambda_2 = stats.boxcox(poke_df[\"total_points\"])"
   ]
  },
  {
   "cell_type": "code",
   "execution_count": null,
   "metadata": {
    "cell_id": "5b29874876284d2c8b53b2f4f5d18d40",
    "deepnote_cell_type": "code",
    "deepnote_to_be_reexecuted": false,
    "execution_millis": 500,
    "execution_start": 1670541214800,
    "source_hash": "5bd7e654",
    "tags": []
   },
   "outputs": [],
   "source": [
    "plt.hist(norm_total,bins=25, color=\"#9ef078\")"
   ]
  },
  {
   "cell_type": "code",
   "execution_count": null,
   "metadata": {
    "cell_id": "7c876c72f32d4ad2af70e9ae25dd936f",
    "deepnote_cell_type": "code",
    "deepnote_to_be_reexecuted": false,
    "execution_millis": 604,
    "execution_start": 1670541215305,
    "source_hash": "b31f5024",
    "tags": []
   },
   "outputs": [],
   "source": [
    "stats.probplot(norm_total, dist=\"norm\", plot=plt)"
   ]
  },
  {
   "cell_type": "code",
   "execution_count": null,
   "metadata": {
    "cell_id": "383aa440a39b45dcb5ac0afe1697235a",
    "deepnote_cell_type": "code",
    "deepnote_to_be_reexecuted": false,
    "execution_millis": 4748099,
    "execution_start": 1670541215909,
    "source_hash": "6ad090a1",
    "tags": []
   },
   "outputs": [],
   "source": [
    "stat, pval = shapiro(norm_total)\n",
    "print(\"{:2f}\".format(pval))"
   ]
  },
  {
   "cell_type": "markdown",
   "metadata": {
    "cell_id": "6e841c4bc55d4ab7ac5b4b17ed961884",
    "deepnote_cell_type": "markdown",
    "tags": []
   },
   "source": [
    "<h4>Transform HP</h4>"
   ]
  },
  {
   "cell_type": "code",
   "execution_count": null,
   "metadata": {
    "cell_id": "2aaf56334c5e4c2f817c7ab71e3237b7",
    "deepnote_cell_type": "code",
    "deepnote_to_be_reexecuted": false,
    "execution_millis": 589,
    "execution_start": 1670541215917,
    "source_hash": "e384bf6f",
    "tags": []
   },
   "outputs": [],
   "source": [
    "plt.hist(poke_df[\"hp\"],bins=25, color=\"#ff8d8c\")"
   ]
  },
  {
   "cell_type": "code",
   "execution_count": null,
   "metadata": {
    "cell_id": "df4cd67232ae424d8ca69c56debeab4d",
    "deepnote_cell_type": "code",
    "deepnote_to_be_reexecuted": false,
    "execution_millis": 510,
    "execution_start": 1670541216501,
    "source_hash": "23bcac48",
    "tags": []
   },
   "outputs": [],
   "source": [
    "stats.probplot(poke_df[\"hp\"], dist=\"norm\", plot=plt)"
   ]
  },
  {
   "cell_type": "code",
   "execution_count": null,
   "metadata": {
    "cell_id": "e95a02cbe0034baeb8cffed443b7e1af",
    "deepnote_cell_type": "code",
    "deepnote_to_be_reexecuted": false,
    "execution_millis": 2,
    "execution_start": 1670541217014,
    "source_hash": "f0bcd24c",
    "tags": []
   },
   "outputs": [],
   "source": [
    "stat, pval = shapiro(poke_df[\"hp\"])\n",
    "print(\"{:2f}\".format(pval))"
   ]
  },
  {
   "cell_type": "code",
   "execution_count": null,
   "metadata": {
    "cell_id": "5adf81651fcc4f1d9858623e26325c1c",
    "deepnote_cell_type": "code",
    "deepnote_to_be_reexecuted": false,
    "execution_millis": 8,
    "execution_start": 1670541217020,
    "source_hash": "fbf90db7",
    "tags": []
   },
   "outputs": [],
   "source": [
    "norm_hp, norm_lambda_3 = stats.boxcox(poke_df[\"hp\"])"
   ]
  },
  {
   "cell_type": "code",
   "execution_count": null,
   "metadata": {
    "cell_id": "818c0b8fafb145e38727a9a737319eda",
    "deepnote_cell_type": "code",
    "deepnote_to_be_reexecuted": false,
    "execution_millis": 624,
    "execution_start": 1670541217094,
    "source_hash": "8bf59fa9",
    "tags": []
   },
   "outputs": [],
   "source": [
    "plt.hist(norm_hp,bins=25, color=\"#ff8d8c\")"
   ]
  },
  {
   "cell_type": "code",
   "execution_count": null,
   "metadata": {
    "cell_id": "697ff1300d73456aa147656336f8dc41",
    "deepnote_cell_type": "code",
    "deepnote_to_be_reexecuted": false,
    "execution_millis": 598,
    "execution_start": 1670541217723,
    "source_hash": "535dce11",
    "tags": []
   },
   "outputs": [],
   "source": [
    "stats.probplot(norm_hp, dist=\"norm\", plot=plt)"
   ]
  },
  {
   "cell_type": "code",
   "execution_count": null,
   "metadata": {
    "cell_id": "3a4d1f0d53c24984ab589fd29c014517",
    "deepnote_cell_type": "code",
    "deepnote_to_be_reexecuted": false,
    "execution_millis": 7,
    "execution_start": 1670541218319,
    "source_hash": "fa98221",
    "tags": []
   },
   "outputs": [],
   "source": [
    "stat, pval = shapiro(norm_hp)\n",
    "print(\"{:2f}\".format(pval))"
   ]
  },
  {
   "cell_type": "markdown",
   "metadata": {
    "cell_id": "b4cac125e9764185a52cda1b6fc8ba11",
    "deepnote_cell_type": "markdown",
    "tags": []
   },
   "source": [
    "<h4>Transform Defense</h4>"
   ]
  },
  {
   "cell_type": "code",
   "execution_count": null,
   "metadata": {
    "cell_id": "7c9da56879a642858c5124f000dda3e5",
    "deepnote_cell_type": "code",
    "deepnote_to_be_reexecuted": false,
    "execution_millis": 521,
    "execution_start": 1670541218325,
    "source_hash": "144d6b7b",
    "tags": []
   },
   "outputs": [],
   "source": [
    "plt.hist(poke_df[\"defense\"],bins=25, color=\"#feb58c\")"
   ]
  },
  {
   "cell_type": "code",
   "execution_count": null,
   "metadata": {
    "cell_id": "1191ace4e5b342769840b689b7fac165",
    "deepnote_cell_type": "code",
    "deepnote_to_be_reexecuted": false,
    "execution_millis": 815,
    "execution_start": 1670541218906,
    "source_hash": "7f212c7b",
    "tags": []
   },
   "outputs": [],
   "source": [
    "stats.probplot(poke_df[\"defense\"], dist=\"norm\", plot=plt)"
   ]
  },
  {
   "cell_type": "code",
   "execution_count": null,
   "metadata": {
    "cell_id": "6683366b1af04b878d6d62b0c98058de",
    "deepnote_cell_type": "code",
    "deepnote_to_be_reexecuted": false,
    "execution_millis": 8,
    "execution_start": 1670541219719,
    "source_hash": "a42d69af",
    "tags": []
   },
   "outputs": [],
   "source": [
    "stat, pval = shapiro(poke_df[\"defense\"])\n",
    "print(\"{:2f}\".format(pval))"
   ]
  },
  {
   "cell_type": "code",
   "execution_count": null,
   "metadata": {
    "cell_id": "0ad4e94f6dfc4d1c831265fd297fc6db",
    "deepnote_cell_type": "code",
    "deepnote_to_be_reexecuted": false,
    "execution_millis": 5,
    "execution_start": 1670541219725,
    "source_hash": "5f1c5431",
    "tags": []
   },
   "outputs": [],
   "source": [
    "norm_defense, norm_lambda = stats.boxcox(poke_df[\"defense\"])"
   ]
  },
  {
   "cell_type": "code",
   "execution_count": null,
   "metadata": {
    "cell_id": "de0c9586810a4722be0a0f3fa16a6ef7",
    "deepnote_cell_type": "code",
    "deepnote_to_be_reexecuted": false,
    "execution_millis": 534,
    "execution_start": 1670541219806,
    "source_hash": "1c6a549a",
    "tags": []
   },
   "outputs": [],
   "source": [
    "plt.hist(norm_defense,bins=25, color=\"#feb58c\")"
   ]
  },
  {
   "cell_type": "code",
   "execution_count": null,
   "metadata": {
    "cell_id": "a84762206254435eab6097a7f1653720",
    "deepnote_cell_type": "code",
    "deepnote_to_be_reexecuted": false,
    "execution_millis": 594,
    "execution_start": 1670541220407,
    "source_hash": "41d946fc",
    "tags": []
   },
   "outputs": [],
   "source": [
    "stats.probplot(norm_defense, dist=\"norm\", plot=plt)"
   ]
  },
  {
   "cell_type": "code",
   "execution_count": null,
   "metadata": {
    "cell_id": "22579f2c8d084172acbe04fbac981fbf",
    "deepnote_cell_type": "code",
    "deepnote_to_be_reexecuted": false,
    "execution_millis": 4,
    "execution_start": 1670541221011,
    "source_hash": "b5c45ac5",
    "tags": []
   },
   "outputs": [],
   "source": [
    "stat, pval = shapiro(norm_defense)\n",
    "print(\"{:2f}\".format(pval))"
   ]
  },
  {
   "cell_type": "markdown",
   "metadata": {
    "cell_id": "867b690dad6e46cca40895fc3b06e629",
    "deepnote_cell_type": "markdown",
    "tags": []
   },
   "source": [
    "<h4>Transform Special Attack</h4>"
   ]
  },
  {
   "cell_type": "code",
   "execution_count": null,
   "metadata": {
    "cell_id": "c948fd59da4340e09ddcdbd7271c1070",
    "deepnote_cell_type": "code",
    "deepnote_to_be_reexecuted": false,
    "execution_millis": 522,
    "execution_start": 1670541221020,
    "source_hash": "27985176",
    "tags": []
   },
   "outputs": [],
   "source": [
    "plt.hist(poke_df[\"sp_attack\"],bins=25, color=\"#8bffff\")"
   ]
  },
  {
   "cell_type": "code",
   "execution_count": null,
   "metadata": {
    "cell_id": "2eb0364a906648539c7e6df1e9ba1971",
    "deepnote_cell_type": "code",
    "deepnote_to_be_reexecuted": false,
    "execution_millis": 525,
    "execution_start": 1670541221598,
    "source_hash": "5d6044a9",
    "tags": []
   },
   "outputs": [],
   "source": [
    "stats.probplot(poke_df[\"sp_attack\"], dist=\"norm\", plot=plt)"
   ]
  },
  {
   "cell_type": "code",
   "execution_count": null,
   "metadata": {
    "cell_id": "9263443ea6a744a981d9d51a3fc6d426",
    "deepnote_cell_type": "code",
    "deepnote_to_be_reexecuted": false,
    "execution_millis": 5,
    "execution_start": 1670541222136,
    "source_hash": "429e5176",
    "tags": []
   },
   "outputs": [],
   "source": [
    "stat, pval = shapiro(poke_df[\"sp_attack\"])\n",
    "print(\"{:2f}\".format(pval))"
   ]
  },
  {
   "cell_type": "code",
   "execution_count": null,
   "metadata": {
    "cell_id": "8b7a3c72dda44928a68f14502fc002d8",
    "deepnote_cell_type": "code",
    "deepnote_to_be_reexecuted": false,
    "execution_millis": 60,
    "execution_start": 1670541222141,
    "source_hash": "ea7df60a",
    "tags": []
   },
   "outputs": [],
   "source": [
    "norm_sp_attack, norm_lambda = stats.boxcox(poke_df[\"sp_attack\"])"
   ]
  },
  {
   "cell_type": "code",
   "execution_count": null,
   "metadata": {
    "cell_id": "61ac7ca75cf04763baeedd0e24352493",
    "deepnote_cell_type": "code",
    "deepnote_to_be_reexecuted": false,
    "execution_millis": 503,
    "execution_start": 1670541222208,
    "source_hash": "1b46a0c5",
    "tags": []
   },
   "outputs": [],
   "source": [
    "plt.hist(norm_sp_attack,bins=25, color=\"#8bffff\")"
   ]
  },
  {
   "cell_type": "code",
   "execution_count": null,
   "metadata": {
    "cell_id": "e2a2c9e14dcc42959a916745a8e169b3",
    "deepnote_cell_type": "code",
    "deepnote_to_be_reexecuted": false,
    "execution_millis": 593,
    "execution_start": 1670541222710,
    "source_hash": "30872c43",
    "tags": []
   },
   "outputs": [],
   "source": [
    "stats.probplot(norm_sp_attack, dist=\"norm\", plot=plt)"
   ]
  },
  {
   "cell_type": "code",
   "execution_count": null,
   "metadata": {
    "cell_id": "e202c3ab50174ac8a3b9c6cc4ac18ace",
    "deepnote_cell_type": "code",
    "deepnote_to_be_reexecuted": false,
    "execution_millis": 5,
    "execution_start": 1670541223303,
    "source_hash": "898a56db",
    "tags": []
   },
   "outputs": [],
   "source": [
    "stat, pval = shapiro(norm_sp_attack)\n",
    "print(\"{:2f}\".format(pval))"
   ]
  },
  {
   "cell_type": "markdown",
   "metadata": {
    "cell_id": "37c9ffe1e5804c47ad7725ef576624fc",
    "deepnote_cell_type": "markdown",
    "tags": []
   },
   "source": [
    "<h4>Transform Special Defense</h4>"
   ]
  },
  {
   "cell_type": "code",
   "execution_count": null,
   "metadata": {
    "cell_id": "0d5fbe5a950044dbac4b4a28cdf4930c",
    "deepnote_cell_type": "code",
    "deepnote_to_be_reexecuted": false,
    "execution_millis": 595,
    "execution_start": 1670541223312,
    "source_hash": "9f112ae0",
    "tags": []
   },
   "outputs": [],
   "source": [
    "plt.hist(poke_df[\"sp_defense\"],bins=25, color=\"#8aa1ff\")"
   ]
  },
  {
   "cell_type": "code",
   "execution_count": null,
   "metadata": {
    "cell_id": "ebb0a0d813d644bfb20d88b29909d8e9",
    "deepnote_cell_type": "code",
    "deepnote_to_be_reexecuted": false,
    "execution_millis": 535,
    "execution_start": 1670541223907,
    "source_hash": "88521e63",
    "tags": []
   },
   "outputs": [],
   "source": [
    "stats.probplot(poke_df[\"sp_defense\"], dist=\"norm\", plot=plt)"
   ]
  },
  {
   "cell_type": "code",
   "execution_count": null,
   "metadata": {
    "cell_id": "590255cef1084003b1242e4cdbb92f61",
    "deepnote_cell_type": "code",
    "deepnote_to_be_reexecuted": false,
    "execution_millis": 6,
    "execution_start": 1670541224492,
    "source_hash": "309958b9",
    "tags": []
   },
   "outputs": [],
   "source": [
    "stat, pval = shapiro(poke_df[\"sp_defense\"])\n",
    "print(\"{:2f}\".format(pval))"
   ]
  },
  {
   "cell_type": "code",
   "execution_count": null,
   "metadata": {
    "cell_id": "5bdc8b08ad524c1a90a5ba337302a249",
    "deepnote_cell_type": "code",
    "deepnote_to_be_reexecuted": false,
    "execution_millis": 6,
    "execution_start": 1670541224502,
    "source_hash": "17ed18c9",
    "tags": []
   },
   "outputs": [],
   "source": [
    "norm_sp_defense, norm_lambda = stats.boxcox(poke_df[\"sp_defense\"])"
   ]
  },
  {
   "cell_type": "code",
   "execution_count": null,
   "metadata": {
    "cell_id": "0434cc3ee4e447b494a79dd86068868e",
    "deepnote_cell_type": "code",
    "deepnote_to_be_reexecuted": false,
    "execution_millis": 511,
    "execution_start": 1670541224516,
    "source_hash": "c8e8c47f",
    "tags": []
   },
   "outputs": [],
   "source": [
    "plt.hist(norm_sp_defense,bins=25, color=\"#8aa1ff\")"
   ]
  },
  {
   "cell_type": "code",
   "execution_count": null,
   "metadata": {
    "cell_id": "beb3440d8b704c7ebe6b70a253088114",
    "deepnote_cell_type": "code",
    "deepnote_to_be_reexecuted": false,
    "execution_millis": 511,
    "execution_start": 1670541225031,
    "source_hash": "be5ba7d3",
    "tags": []
   },
   "outputs": [],
   "source": [
    "stats.probplot(norm_sp_defense, dist=\"norm\", plot=plt)"
   ]
  },
  {
   "cell_type": "code",
   "execution_count": null,
   "metadata": {
    "cell_id": "4f9e9acf3e8141d09fa140a75743b3b6",
    "deepnote_cell_type": "code",
    "deepnote_to_be_reexecuted": false,
    "execution_millis": 6,
    "execution_start": 1670541225598,
    "source_hash": "b9eabb41",
    "tags": []
   },
   "outputs": [],
   "source": [
    "stat, pval = shapiro(norm_sp_defense)\n",
    "print(\"{:2f}\".format(pval))"
   ]
  },
  {
   "cell_type": "markdown",
   "metadata": {
    "cell_id": "ea7e94b87d46440693d373ee59ab87c8",
    "deepnote_cell_type": "markdown",
    "tags": []
   },
   "source": [
    "<h4>Transform Speed</h4>"
   ]
  },
  {
   "cell_type": "code",
   "execution_count": null,
   "metadata": {
    "cell_id": "ce871e72ecdf4bbfbcbc37a201e84c35",
    "deepnote_cell_type": "code",
    "deepnote_to_be_reexecuted": false,
    "execution_millis": 588,
    "execution_start": 1670541225612,
    "source_hash": "64e5dc30",
    "tags": []
   },
   "outputs": [],
   "source": [
    "plt.hist(poke_df[\"speed\"],bins=15, color=\"#fc8bff\")"
   ]
  },
  {
   "cell_type": "code",
   "execution_count": null,
   "metadata": {
    "cell_id": "58f0c96978834dc08cc26432ef93d797",
    "deepnote_cell_type": "code",
    "deepnote_to_be_reexecuted": false,
    "execution_millis": 517,
    "execution_start": 1670541226207,
    "source_hash": "be0e9c0",
    "tags": []
   },
   "outputs": [],
   "source": [
    "stats.probplot(poke_df[\"speed\"], dist=\"norm\", plot=plt)"
   ]
  },
  {
   "cell_type": "code",
   "execution_count": null,
   "metadata": {
    "cell_id": "58e81c0794794b8dbb5e5e03366a83a7",
    "deepnote_cell_type": "code",
    "deepnote_to_be_reexecuted": false,
    "execution_millis": 5,
    "execution_start": 1670541226728,
    "source_hash": "b993d81c",
    "tags": []
   },
   "outputs": [],
   "source": [
    "stat, pval = shapiro(poke_df[\"speed\"])\n",
    "print(\"{:2f}\".format(pval))"
   ]
  },
  {
   "cell_type": "code",
   "execution_count": null,
   "metadata": {
    "cell_id": "d6cdf9a66db8473abf640cef60538615",
    "deepnote_cell_type": "code",
    "deepnote_to_be_reexecuted": false,
    "execution_millis": 71,
    "execution_start": 1670541226734,
    "source_hash": "f50b28ec",
    "tags": []
   },
   "outputs": [],
   "source": [
    "norm_speed, norm_lambda = stats.boxcox(poke_df[\"speed\"])"
   ]
  },
  {
   "cell_type": "code",
   "execution_count": null,
   "metadata": {
    "cell_id": "9b53fb4eb9c443f19291c9c38aa637c8",
    "deepnote_cell_type": "code",
    "deepnote_to_be_reexecuted": false,
    "execution_millis": 536,
    "execution_start": 1670541226810,
    "source_hash": "e74fc215",
    "tags": []
   },
   "outputs": [],
   "source": [
    "plt.hist(norm_speed,bins=25, color=\"#fc8bff\")"
   ]
  },
  {
   "cell_type": "code",
   "execution_count": null,
   "metadata": {
    "cell_id": "b548cecbdf7b433f9d2554db5848d63f",
    "deepnote_cell_type": "code",
    "deepnote_to_be_reexecuted": false,
    "execution_millis": 617,
    "execution_start": 1670541227400,
    "source_hash": "15da2f6b",
    "tags": []
   },
   "outputs": [],
   "source": [
    "stats.probplot(norm_speed, dist=\"norm\", plot=plt)"
   ]
  },
  {
   "cell_type": "code",
   "execution_count": null,
   "metadata": {
    "cell_id": "fc79167d39a64635ba70724b82da650e",
    "deepnote_cell_type": "code",
    "deepnote_to_be_reexecuted": false,
    "execution_millis": 8,
    "execution_start": 1670541228018,
    "source_hash": "42798eeb",
    "tags": []
   },
   "outputs": [],
   "source": [
    "stat, pval = shapiro(norm_speed)\n",
    "print(\"{:2f}\".format(pval))"
   ]
  },
  {
   "cell_type": "markdown",
   "metadata": {
    "cell_id": "166f98ea8d944af39ccce79f822bb4be",
    "deepnote_cell_type": "markdown",
    "tags": []
   },
   "source": [
    "Regardless of the results in the p-values across the columns, if we rely on the Q-Q plots, the box-cox method seems to work as the data points were aligned in a straight diagonal line. Since we have introduced changes into our data, it would be wise to copy the dataframe and then use the copy to replace the old data with the newly transformed data. Use the `.copy()` method to copy the dataframe."
   ]
  },
  {
   "cell_type": "code",
   "execution_count": null,
   "metadata": {
    "cell_id": "f4fe8e51af354c148f85d6c633898b2f",
    "deepnote_cell_type": "code",
    "deepnote_to_be_reexecuted": false,
    "execution_millis": 3,
    "execution_start": 1670541228024,
    "source_hash": "471b32b5",
    "tags": []
   },
   "outputs": [],
   "source": [
    "pokemon_df = poke_df.copy()"
   ]
  },
  {
   "cell_type": "markdown",
   "metadata": {
    "cell_id": "588d02058f77494c945b629812f88462",
    "deepnote_cell_type": "markdown",
    "tags": []
   },
   "source": [
    "Next, drop the old columns using the `.drop()` method."
   ]
  },
  {
   "cell_type": "code",
   "execution_count": null,
   "metadata": {
    "cell_id": "3fe6c7ae500f4b449eac0c6e53e7318d",
    "deepnote_cell_type": "code",
    "deepnote_to_be_reexecuted": false,
    "execution_millis": 6,
    "execution_start": 1670541228033,
    "source_hash": "3a4b0a8c",
    "tags": []
   },
   "outputs": [],
   "source": [
    "pokemon_df.drop([\"total_points\", \"hp\", \"attack\", \"defense\", \"sp_attack\", \"sp_defense\", \"speed\"], axis = 1, inplace = True)"
   ]
  },
  {
   "cell_type": "code",
   "execution_count": null,
   "metadata": {
    "cell_id": "f5c245add05442dabf7f667f1669835d",
    "deepnote_cell_type": "code",
    "deepnote_to_be_reexecuted": false,
    "execution_millis": 73,
    "execution_start": 1670541228039,
    "source_hash": "fe408920",
    "tags": []
   },
   "outputs": [],
   "source": [
    "pokemon_df.columns"
   ]
  },
  {
   "cell_type": "markdown",
   "metadata": {
    "cell_id": "92a45797777642cb9f7000fd4aba91cf",
    "deepnote_cell_type": "markdown",
    "tags": []
   },
   "source": [
    "Then, add the normalized series into the dataframe."
   ]
  },
  {
   "cell_type": "code",
   "execution_count": null,
   "metadata": {
    "cell_id": "3dff18f3d82447f2ae3c44d5670559bf",
    "deepnote_cell_type": "code",
    "deepnote_to_be_reexecuted": false,
    "execution_millis": 13,
    "execution_start": 1670541228113,
    "source_hash": "3d8a744f",
    "tags": []
   },
   "outputs": [],
   "source": [
    "pokemon_df[\"total_points\"] = norm_total\n",
    "pokemon_df[\"hp\"] = norm_hp\n",
    "pokemon_df[\"attack\"] = norm_attack\n",
    "pokemon_df[\"defense\"] = norm_defense\n",
    "pokemon_df[\"sp_attack\"] = norm_sp_attack\n",
    "pokemon_df[\"sp_defense\"] = norm_sp_defense\n",
    "pokemon_df[\"speed\"] = norm_speed"
   ]
  },
  {
   "cell_type": "code",
   "execution_count": null,
   "metadata": {
    "cell_id": "0ca86a2595ac40b5b12a0370aaa8b235",
    "deepnote_cell_type": "code",
    "deepnote_to_be_reexecuted": false,
    "execution_millis": 472,
    "execution_start": 1670541228127,
    "source_hash": "211c6954",
    "tags": []
   },
   "outputs": [],
   "source": [
    "pokemon_df"
   ]
  },
  {
   "cell_type": "markdown",
   "metadata": {
    "cell_id": "8d2e6cf3a7444fa3843041e9d53f2897",
    "deepnote_cell_type": "markdown",
    "tags": []
   },
   "source": [
    "After the process of transforming the data in its normalized form, we can then move on to aggregation."
   ]
  },
  {
   "cell_type": "markdown",
   "metadata": {
    "cell_id": "a6f3ef044403437eac12eb0a926136c3",
    "deepnote_cell_type": "markdown",
    "tags": []
   },
   "source": [
    "<h3>Aggregation</h3>"
   ]
  },
  {
   "cell_type": "markdown",
   "metadata": {
    "cell_id": "8ab7ee44580445f2b7ebd0e972d528db",
    "deepnote_cell_type": "markdown",
    "tags": []
   },
   "source": [
    "Aggregation summarizes data belonging to the same group or category. Numerical data and categorical data can be summarized using aggregation. This method can be used to get the overall mean, median, or mode of a series.\n",
    "\n",
    "Since no two Pokemon have identical individual statistics and the modelling technique relies on individual statistics, aggregation will not be used to provide the complete information needed for data modelling. Thus, we are skipping this process."
   ]
  },
  {
   "cell_type": "markdown",
   "metadata": {
    "cell_id": "b595697ea8ed4f9e94864eda899351e5",
    "deepnote_cell_type": "markdown",
    "tags": []
   },
   "source": [
    "<h3>Column Transformation</h3>"
   ]
  },
  {
   "cell_type": "markdown",
   "metadata": {
    "cell_id": "09a0d0fd4bf54118b0657d6b6cb9bdfe",
    "deepnote_cell_type": "markdown",
    "tags": []
   },
   "source": [
    "If we want to separate data from one column into two columns (e.g. full name -> last name, given name), we can use column transformation. When looking at the dataset, there is no way we can implement column transformation. We cannot split the name, species, ability 1, ability 2, or hidden ability as it will not make sense if we do split the values."
   ]
  },
  {
   "cell_type": "markdown",
   "metadata": {
    "cell_id": "40cb3a5512754fefa93ca7d38be869fd",
    "deepnote_cell_type": "markdown",
    "tags": []
   },
   "source": [
    "<h3>Feature Scaling</h3>"
   ]
  },
  {
   "cell_type": "markdown",
   "metadata": {
    "cell_id": "c2a95ea53aa54641b6216efecf1ba70e",
    "deepnote_cell_type": "markdown",
    "tags": []
   },
   "source": [
    "Feature Scaling is a method that standardizes data in a given range. Unlike log transformation - a method that normalizes data between 0 or 1 - feature scaling takes into account the distances of each point from the mean or, to simply put, the standard deviation. \n",
    "\n",
    "Considering that we will be using an algorithm that computes for the Euclidean distance of points, we perform feature scaling and then use the standardized values for our computation. Since clustering revolves around calculating the distance of points from the centroids, standardizing the data would be beneficial as the effect of outliers is minimal unlike when we use log transformation. Moreover, it speeds up the calculation process of the algorithm we will be using.\n",
    "<figure>\n",
    "    <img src=\"https://media.geeksforgeeks.org/wp-content/uploads/standard.png\" style=\"width: 20%\">\n",
    "    <figcaption style=\"text-align: center\">Formula for the Z-Score</figcaption>\n",
    "</figure>\n",
    "The formula above is used to compute the z-score, where <b>x</b> is the data point, <b>μ</b> is the mean, and <b>ơ</b> is the standard deviation. The z-score tells us how many standard deviations away from the mean is the data point.\n",
    "<bR>\n",
    "To perform feature scaling on our data, we install the package by inputting `pip install sklearn` or `conda install sklearn` in the command line. Next, import the method `StandardScaler` from the package `preprocessing` under the library called `sklearn`, also known as <b>SciKit-Learn</b>. This library specializes on machine learning for Python users and it contains various algorithms used in the learning process."
   ]
  },
  {
   "cell_type": "code",
   "execution_count": null,
   "metadata": {
    "cell_id": "b5cc233e29494956b292608eb3082a68",
    "deepnote_cell_type": "code",
    "deepnote_to_be_reexecuted": false,
    "execution_millis": 7202,
    "execution_start": 1670541228610,
    "source_hash": "f525a99d",
    "tags": []
   },
   "outputs": [],
   "source": [
    "!pip install sklearn"
   ]
  },
  {
   "cell_type": "code",
   "execution_count": null,
   "metadata": {
    "cell_id": "43d7b274a4e04ad0aefeae90e738f092",
    "deepnote_cell_type": "code",
    "deepnote_to_be_reexecuted": false,
    "execution_millis": 275,
    "execution_start": 1670541235821,
    "source_hash": "866b8212",
    "tags": []
   },
   "outputs": [],
   "source": [
    "from sklearn.preprocessing import StandardScaler"
   ]
  },
  {
   "cell_type": "markdown",
   "metadata": {
    "cell_id": "339c5847ec834e9889b0b1f9f3fb9165",
    "deepnote_cell_type": "markdown",
    "tags": []
   },
   "source": [
    "After importing the library, use the `.fit()` function to reformat the data into its standardized versions. This calculates for the mean and standard deviations of each data point."
   ]
  },
  {
   "cell_type": "code",
   "execution_count": null,
   "metadata": {
    "cell_id": "5a373d3cb9fc4cafb2e8cf8e7d46ce2c",
    "deepnote_cell_type": "code",
    "deepnote_to_be_reexecuted": false,
    "execution_millis": 123,
    "execution_start": 1670541236105,
    "source_hash": "22857787",
    "tags": []
   },
   "outputs": [],
   "source": [
    "pokemon_df[[\"total_points\", \"hp\", \"attack\", \"defense\", \"sp_attack\", \"sp_defense\", \"speed\"]]"
   ]
  },
  {
   "cell_type": "code",
   "execution_count": null,
   "metadata": {
    "cell_id": "dba83cea15394b4494017ec066276a3a",
    "deepnote_cell_type": "code",
    "deepnote_to_be_reexecuted": false,
    "execution_millis": 0,
    "execution_start": 1670541236217,
    "source_hash": "8b372f48",
    "tags": []
   },
   "outputs": [],
   "source": [
    "sd_scaler = StandardScaler()\n",
    "standardized_features = sd_scaler.fit_transform(pokemon_df[[\"total_points\", \"hp\", \"attack\", \"defense\", \"sp_attack\", \"sp_defense\", \"speed\"]])"
   ]
  },
  {
   "cell_type": "markdown",
   "metadata": {
    "cell_id": "478aec37cbb94b4d817fd9a7f628a4f3",
    "deepnote_cell_type": "markdown",
    "tags": []
   },
   "source": [
    "Since we have an array of the standardized features, convert them to a dataframe. Drop the old columns and then concatenate this dataframe into the `pokemon_df` dataframe."
   ]
  },
  {
   "cell_type": "code",
   "execution_count": null,
   "metadata": {
    "cell_id": "3989e91b49844c0d821e58bcb3b712fd",
    "deepnote_cell_type": "code",
    "deepnote_to_be_reexecuted": false,
    "execution_millis": 83,
    "execution_start": 1670541236230,
    "source_hash": "ee2377ba",
    "tags": []
   },
   "outputs": [],
   "source": [
    "sd_feat_df = pd.DataFrame(standardized_features, columns=[\"total_points\", \"hp\", \"attack\", \"defense\", \"sp_attack\", \"sp_defense\", \"speed\"])\n",
    "sd_feat_df"
   ]
  },
  {
   "cell_type": "code",
   "execution_count": null,
   "metadata": {
    "cell_id": "c705bcb9d3c04b1f86abf29255d6ff1f",
    "deepnote_cell_type": "code",
    "deepnote_to_be_reexecuted": false,
    "execution_millis": 0,
    "execution_start": 1670541236359,
    "source_hash": "3a4b0a8c",
    "tags": []
   },
   "outputs": [],
   "source": [
    "pokemon_df.drop([\"total_points\", \"hp\", \"attack\", \"defense\", \"sp_attack\", \"sp_defense\", \"speed\"], axis = 1, inplace = True)"
   ]
  },
  {
   "cell_type": "code",
   "execution_count": null,
   "metadata": {
    "cell_id": "55b0dc6e580d4607909a63315097ad02",
    "deepnote_cell_type": "code",
    "deepnote_to_be_reexecuted": false,
    "execution_millis": 580,
    "execution_start": 1670541236360,
    "source_hash": "dbe6ddf6",
    "tags": []
   },
   "outputs": [],
   "source": [
    "pokemon_df = pd.concat([pokemon_df, sd_feat_df], axis=1, join='outer')\n",
    "pokemon_df"
   ]
  },
  {
   "cell_type": "markdown",
   "metadata": {
    "cell_id": "c231402aaa9645cfa9b3ea26b91be3cd",
    "deepnote_cell_type": "markdown",
    "tags": []
   },
   "source": [
    "<h3>Feature Engineering</h3>"
   ]
  },
  {
   "cell_type": "markdown",
   "metadata": {
    "cell_id": "99f9bb477f36426bb460264272a49690",
    "deepnote_cell_type": "markdown",
    "tags": []
   },
   "source": [
    "Finally, if we want to introduce new variables into our dataset, we can use feature engineering. Based on given series of data, feature engineering can be employed [e.g. BMI calculation (from weight_kg and height_m)].\n",
    "\n",
    "However, our chosen data modelling technique and research question relies on the Pokemon's statistics and nothing more. All other features are already given in the dataset. Hence, there is no need to extract values to create new values."
   ]
  },
  {
   "cell_type": "markdown",
   "metadata": {
    "cell_id": "4aebe4f660f941b5b925b8feaec38002",
    "deepnote_cell_type": "markdown",
    "tags": []
   },
   "source": [
    "<p style=\"color: #f0789f; font-weight: bold\">🍚🍜 With all that, we can now conclude the data preprocessing chapter of the notebook. We can now proceed with modelling our finally-cleaned dataset.🍣🍙</p>"
   ]
  },
  {
   "cell_type": "markdown",
   "metadata": {
    "cell_id": "c94213ad3e2e4e20b28a611d2de7cdd0",
    "deepnote_cell_type": "markdown"
   },
   "source": [
    "<h3>🍱 K-Means Clustering 🍱</h3>"
   ]
  },
  {
   "cell_type": "markdown",
   "metadata": {
    "cell_id": "9b4ac8701b4d4e76b7e53c139a7f3db5",
    "deepnote_cell_type": "markdown"
   },
   "source": [
    "<p style=\"font-weight: bold\">🤔 Research Question 🤔: <span style=\"color: #8aa1ff;\">What is the relation between pokemon generation and type 1 element to health points, defense, special attack, special defense, and speed?</span></p>"
   ]
  },
  {
   "cell_type": "markdown",
   "metadata": {
    "cell_id": "44687dd6b1964df98c6e55f442c62b1c",
    "deepnote_cell_type": "markdown",
    "tags": []
   },
   "source": [
    "When analyzing the research question, it implies that grouping all the Pokemon based on their generation and primary element will be the intuition. Looking at the data modelling algorithms discussed in class, <b>clustering</b> is the most appropriate to implement that sort of intuition into action to get the desired results. \n",
    "\n",
    "There are two types of clustering: <b>(1) Hierarchical</b>, and <b>(2) K-Means</b>. Since hierarchical clustering does not handle varied data types and large amounts of data, we will use the <b>K-Means clustering</b> method to divide the data into groups. Moreover, K-Means works faster than hierarchical clustering when used on large datasets."
   ]
  },
  {
   "cell_type": "markdown",
   "metadata": {
    "cell_id": "e8d3e6fc65ff4c88b5c322d887d15fab",
    "deepnote_cell_type": "markdown",
    "tags": []
   },
   "source": [
    "<h4>Elbow Method</h4>"
   ]
  },
  {
   "cell_type": "markdown",
   "metadata": {
    "cell_id": "4def1126f4b04c86ad79e2bfc16ec78a",
    "deepnote_cell_type": "markdown",
    "tags": []
   },
   "source": [
    "To get started with clustering, it is important to determine how many clusters we have to use to group all the Pokemon. We can think of using 8 clusters if we base our reasoning on how many generations there are or 18 clusters for the same reason but for types. However, we have to use the formal way of determining the number of clusters the algorithm will use.\n",
    "\n",
    "The <b>elbow method</b> helps you calculate the number of Ks the dataset can use. Ks are another term for clusters, hence the name <i>K-Means</i>. To employ the elbow method into the notebook, make use of the `KMeans` function from the sklearn package. We can set the maximum clusters to 18 just in case."
   ]
  },
  {
   "cell_type": "code",
   "execution_count": null,
   "metadata": {
    "cell_id": "36706b1cbdc446108cf0273f8b5a1760",
    "deepnote_cell_type": "code",
    "deepnote_to_be_reexecuted": false,
    "execution_millis": 321,
    "execution_start": 1670541236998,
    "source_hash": "ec027a05",
    "tags": []
   },
   "outputs": [],
   "source": [
    "from sklearn.cluster import KMeans\n",
    "from scipy.spatial.distance import cdist"
   ]
  },
  {
   "cell_type": "code",
   "execution_count": null,
   "metadata": {
    "cell_id": "5c34fad84d6a471788695c1c7c0c5846",
    "deepnote_cell_type": "code",
    "deepnote_to_be_reexecuted": false,
    "execution_millis": 2000,
    "execution_start": 1670541237319,
    "source_hash": "4ff2115c",
    "tags": []
   },
   "outputs": [],
   "source": [
    "# declare a list to keep the inertia of each number between 1 and max_clusters (30)\n",
    "inertia_list = []\n",
    "inertia_mappings = {}\n",
    "\n",
    "# use a for loop for the elbow method\n",
    "for each in range(1, 18):\n",
    "    # cluster the dataset based on the amount of 'each'\n",
    "    k_means = KMeans(n_clusters = each)\n",
    "\n",
    "    # calculate for the mean and standard deviation of the features\n",
    "    k_means.fit(standardized_features)\n",
    "\n",
    "    # append the calculated inertia into the inertia list\n",
    "    inertia_list.append(k_means.inertia_)\n",
    "\n",
    "    # get the mappings of the sum of the minimum euclidean distances between each point\n",
    "    # then divide the sum by the total number of observations/Pokemon\n",
    "    inertia_mappings[each] = sum(np.min(cdist(standardized_features, k_means.cluster_centers_, \n",
    "    'euclidean'), axis=1)) / standardized_features.shape[0]"
   ]
  },
  {
   "cell_type": "markdown",
   "metadata": {
    "cell_id": "95321c82ab7c4c9fbde7f8914df495c0",
    "deepnote_cell_type": "markdown",
    "tags": []
   },
   "source": [
    "Next, plot the inertias on a line graph to find out where the bend of the curve is located. That will determine the optimal number of clusters to use. Use the `.plot()` function."
   ]
  },
  {
   "cell_type": "code",
   "execution_count": null,
   "metadata": {
    "cell_id": "883635571eee4051a315a7239e3042ee",
    "deepnote_cell_type": "code",
    "deepnote_to_be_reexecuted": false,
    "execution_millis": 585,
    "execution_start": 1670541239327,
    "source_hash": "69be2fb",
    "tags": []
   },
   "outputs": [],
   "source": [
    "# plot the line of the inertias\n",
    "plt.plot(range(1, 18), inertia_list)\n",
    "\n",
    "# plot the point of the inertias\n",
    "plt.scatter(range(1, 18), inertia_list)\n",
    "\n",
    "# describe the graph\n",
    "plt.title(\"Graph of Inertias\")\n",
    "plt.xlabel(\"No. of Clusters\")\n",
    "plt.ylabel(\"Inertia\")\n",
    "\n",
    "# reveal\n",
    "plt.show() "
   ]
  },
  {
   "cell_type": "markdown",
   "metadata": {
    "cell_id": "3690d793e5bd4ec4984e63905fc3cc8d",
    "deepnote_cell_type": "markdown",
    "tags": []
   },
   "source": [
    "We can also print out the inertias below and observe when the inertia drops and slows down."
   ]
  },
  {
   "cell_type": "code",
   "execution_count": null,
   "metadata": {
    "cell_id": "7649346fcb33484999cf8367b0b1fa16",
    "deepnote_cell_type": "code",
    "deepnote_to_be_reexecuted": false,
    "execution_millis": 15,
    "execution_start": 1670541239910,
    "source_hash": "3fcdc70f",
    "tags": []
   },
   "outputs": [],
   "source": [
    "for x, y in inertia_mappings.items():\n",
    "    print(f\"{x} : {y}\")"
   ]
  },
  {
   "cell_type": "markdown",
   "metadata": {
    "cell_id": "389faa09661c4e8d88098091666bb803",
    "deepnote_cell_type": "markdown",
    "tags": []
   },
   "source": [
    "If we want to make sure we have the right number of clusters to use, use the `KneeLocator` from the `kneed` library. The kneed library can detect where the elbow is on the graph. Install the package first into the notebook."
   ]
  },
  {
   "cell_type": "code",
   "execution_count": null,
   "metadata": {
    "cell_id": "f446af6890444ede85bb021695402545",
    "deepnote_cell_type": "code",
    "deepnote_to_be_reexecuted": false,
    "execution_millis": 7009,
    "execution_start": 1670541239929,
    "source_hash": "d55be8",
    "tags": []
   },
   "outputs": [],
   "source": [
    "!pip install kneed==0.8.1"
   ]
  },
  {
   "cell_type": "code",
   "execution_count": null,
   "metadata": {
    "cell_id": "fedea1ca2209430fa96747d723b2e50d",
    "deepnote_cell_type": "code",
    "deepnote_to_be_reexecuted": false,
    "execution_millis": 86,
    "execution_start": 1670541246945,
    "source_hash": "74c3e3db",
    "tags": []
   },
   "outputs": [],
   "source": [
    "from kneed import KneeLocator"
   ]
  },
  {
   "cell_type": "code",
   "execution_count": null,
   "metadata": {
    "cell_id": "968a4a5130a84ac2a38ae198fb75f290",
    "deepnote_cell_type": "code",
    "deepnote_to_be_reexecuted": false,
    "execution_millis": 8,
    "execution_start": 1670541247037,
    "source_hash": "405fa175",
    "tags": []
   },
   "outputs": [],
   "source": [
    "ideal_no = KneeLocator(range(1, 18), inertia_list, curve=\"convex\", direction=\"decreasing\")\n",
    "ideal_no.elbow"
   ]
  },
  {
   "cell_type": "markdown",
   "metadata": {
    "cell_id": "7ae49cb7d966451387f04b34204f1fc4",
    "deepnote_cell_type": "markdown",
    "tags": []
   },
   "source": [
    "Based on the graph and list of inertias, a steady decrease in inertia starts if we set our number of clusters at <b>4</b>. This means that the algorithm has found 4 patterns of each Pokemon's individual statistics. Now that we found that the optimal number of clusters is 4, we can then start clustering our dataset."
   ]
  },
  {
   "cell_type": "markdown",
   "metadata": {
    "cell_id": "00bceffd7750491f9088dcf9d54207bb",
    "deepnote_cell_type": "markdown",
    "tags": []
   },
   "source": [
    "<h4>Clustering</h4>"
   ]
  },
  {
   "cell_type": "markdown",
   "metadata": {
    "cell_id": "cd7ca9b2712242bda78331c56a70fc43",
    "deepnote_cell_type": "markdown",
    "tags": []
   },
   "source": [
    "To begin clustering, use the `KMeans` function and set the `n_clusters` to <b>4</b>. Create another copy of the pokemon dataframe as a checkpoint in case mistakes have occurred."
   ]
  },
  {
   "cell_type": "code",
   "execution_count": null,
   "metadata": {
    "cell_id": "357dfc4224584fea97c9451bb6d75c93",
    "deepnote_cell_type": "code",
    "deepnote_to_be_reexecuted": false,
    "execution_millis": 54,
    "execution_start": 1670541247045,
    "source_hash": "9e80d23c",
    "tags": []
   },
   "outputs": [],
   "source": [
    "sets = ['total_points', 'hp', 'attack','defense','sp_attack','sp_defense','speed']"
   ]
  },
  {
   "cell_type": "code",
   "execution_count": null,
   "metadata": {
    "cell_id": "568988e2a5a34992814e119b5a8347d9",
    "deepnote_cell_type": "code",
    "deepnote_to_be_reexecuted": false,
    "execution_millis": 4,
    "execution_start": 1670541247101,
    "source_hash": "88ab9969",
    "tags": []
   },
   "outputs": [],
   "source": [
    "clustered_poke_df = pokemon_df.copy()"
   ]
  },
  {
   "cell_type": "code",
   "execution_count": null,
   "metadata": {
    "cell_id": "2f5da6eb950c458b90ce9a890902feef",
    "deepnote_cell_type": "code",
    "deepnote_to_be_reexecuted": false,
    "execution_millis": 1,
    "execution_start": 1670541247147,
    "source_hash": "186ff7e7",
    "tags": []
   },
   "outputs": [],
   "source": [
    "kmeans = KMeans(n_clusters = 4,\n",
    "init = 'random',             # Initialization method for kmeans\n",
    "max_iter = 300,                 # Maximum number of iterations\n",
    "n_init = 10,                    # Choose how often algorithm will run with different centroid\n",
    "random_state = 1)               # Choose random state for reproducibility"
   ]
  },
  {
   "cell_type": "markdown",
   "metadata": {
    "cell_id": "a36f0cab4feb4ab6a57a9f2247dd9588",
    "deepnote_cell_type": "markdown",
    "tags": []
   },
   "source": [
    "Get the mean and standard deviations of each points using the `.fit()` function and create a column in the dataframe listing the clusters where each Pokemon belong to. With that, we can view the dataframe and see the clusters the Pokemon is assigned."
   ]
  },
  {
   "cell_type": "code",
   "execution_count": null,
   "metadata": {
    "cell_id": "c8edca0a018d4dfc90650c61d298baa5",
    "deepnote_cell_type": "code",
    "deepnote_to_be_reexecuted": false,
    "execution_millis": 247,
    "execution_start": 1670541247148,
    "source_hash": "f1e9329f",
    "tags": []
   },
   "outputs": [],
   "source": [
    "kmeans.fit(standardized_features)"
   ]
  },
  {
   "cell_type": "code",
   "execution_count": null,
   "metadata": {
    "cell_id": "5998b68b00c449498ae71680a7d50850",
    "deepnote_cell_type": "code",
    "deepnote_to_be_reexecuted": false,
    "execution_millis": 1,
    "execution_start": 1670541247454,
    "source_hash": "cc97195b",
    "tags": []
   },
   "outputs": [],
   "source": [
    "clustered_poke_df[\"cluster\"] = kmeans.labels_"
   ]
  },
  {
   "cell_type": "code",
   "execution_count": null,
   "metadata": {
    "cell_id": "76721ff4989944609b2fac4f2308944c",
    "deepnote_cell_type": "code",
    "deepnote_to_be_reexecuted": false,
    "execution_millis": 386,
    "execution_start": 1670541247455,
    "source_hash": "e6c6aee0",
    "tags": []
   },
   "outputs": [],
   "source": [
    "clustered_poke_df"
   ]
  },
  {
   "cell_type": "markdown",
   "metadata": {
    "cell_id": "cc735d2dc8024ba2831f3fe89895bcc4",
    "deepnote_cell_type": "markdown",
    "tags": []
   },
   "source": [
    "<h3>🔎 Data Exploration 🔍</h3>"
   ]
  },
  {
   "cell_type": "markdown",
   "metadata": {
    "cell_id": "c86475454f7941118408e4caceb318de",
    "deepnote_cell_type": "markdown",
    "tags": []
   },
   "source": [
    "Now that we have modelled our data, we can now explore it using visuals. We also want to discover how distinct each cluster is, or what makes them different from the other clusters. \n",
    "\n",
    "Before that, import the `seaborn` library. We can also use different color palettes for the visuals. For this notebook, we will use the `pastel` palette."
   ]
  },
  {
   "cell_type": "code",
   "execution_count": null,
   "metadata": {
    "cell_id": "1f08de4ba67d4f0da10fb52ebe8b5b3a",
    "deepnote_cell_type": "code",
    "deepnote_to_be_reexecuted": false,
    "execution_millis": 162,
    "execution_start": 1670541247892,
    "source_hash": "c9d2f67b",
    "tags": []
   },
   "outputs": [],
   "source": [
    "import seaborn as sns"
   ]
  },
  {
   "cell_type": "code",
   "execution_count": null,
   "metadata": {
    "cell_id": "17731548ed6043cc9cc906acbd061231",
    "deepnote_cell_type": "code",
    "deepnote_to_be_reexecuted": false,
    "execution_millis": 7,
    "execution_start": 1670541248092,
    "source_hash": "f6ab010b",
    "tags": []
   },
   "outputs": [],
   "source": [
    "sns.color_palette(\"pastel\")"
   ]
  },
  {
   "cell_type": "markdown",
   "metadata": {
    "cell_id": "a34952d0a1c04ad5a2f7a0d80918c8e9",
    "deepnote_cell_type": "markdown",
    "tags": []
   },
   "source": [
    "If we want to know which cluster is the most powerful, we can use the `.scatterplot()` method from the seaborn library."
   ]
  },
  {
   "cell_type": "code",
   "execution_count": null,
   "metadata": {
    "cell_id": "28194fdac1da4601b36324276407062d",
    "deepnote_cell_type": "code",
    "deepnote_to_be_reexecuted": false,
    "execution_millis": 1131,
    "execution_start": 1670541248102,
    "source_hash": "b0fb997b",
    "tags": []
   },
   "outputs": [],
   "source": [
    "sns.scatterplot(x = clustered_poke_df[\"attack\"], y = clustered_poke_df[\"defense\"], hue = clustered_poke_df[\"cluster\"], palette = \"pastel\");"
   ]
  },
  {
   "cell_type": "markdown",
   "metadata": {
    "cell_id": "15939d27e1c64b98a677e2a6824493b6",
    "deepnote_cell_type": "markdown",
    "tags": []
   },
   "source": [
    "Additionally, if we want to save time, we can use the `.pairplot()` function. This pairs every category of statistic (e.g. attack, defense, etc) to each other to generate scatter plots of every combination. "
   ]
  },
  {
   "cell_type": "code",
   "execution_count": null,
   "metadata": {
    "cell_id": "485e60a508de4c14a6d12239636c1665",
    "deepnote_cell_type": "code",
    "deepnote_to_be_reexecuted": false,
    "execution_millis": 10,
    "execution_start": 1670541249232,
    "source_hash": "2cb74cb3",
    "tags": []
   },
   "outputs": [],
   "source": [
    "stats_set = clustered_poke_df[[\"total_points\", \"hp\", \"attack\", \"defense\", \"sp_attack\", \"sp_defense\", \"speed\", \"cluster\"]]"
   ]
  },
  {
   "cell_type": "code",
   "execution_count": null,
   "metadata": {
    "cell_id": "29945e680ff442b7a710f17199c6532c",
    "deepnote_cell_type": "code",
    "deepnote_to_be_reexecuted": false,
    "execution_millis": 44552,
    "execution_start": 1670541249303,
    "source_hash": "f78b0077",
    "tags": []
   },
   "outputs": [],
   "source": [
    "sns.pairplot(stats_set, hue = \"cluster\", palette = \"pastel\");"
   ]
  },
  {
   "cell_type": "markdown",
   "metadata": {
    "cell_id": "f31fbeff2f1d4e118217dabd73f17074",
    "deepnote_cell_type": "markdown",
    "tags": []
   },
   "source": [
    "Observing each of the scatterplots above, we can infer that <span><b style=\"color: limegreen\">cluster 2</b></span> is the category where all the strongest Pokemon belong to. It dominates in almost every statistic, while <span><b style=\"color: skyblue\">cluster 0</b></span> and <span><b style=\"color: orange\">cluster 1</b></span> have average performance. Meanwhile, <span><b style=\"color: tomato\">cluster 3</b></span> is the group with the weakest Pokemon.\n",
    "\n",
    "Now, if we want to know how well each cluster performs on average per category, we can use a bar graph. Use the `.barplot()` method from the seaborn package."
   ]
  },
  {
   "cell_type": "code",
   "execution_count": null,
   "metadata": {
    "cell_id": "172cce30bbc645778aedb9b2beb3a211",
    "deepnote_cell_type": "code",
    "deepnote_to_be_reexecuted": false,
    "execution_millis": 4749501,
    "execution_start": 1670541293859,
    "source_hash": "cb1778b6",
    "tags": []
   },
   "outputs": [],
   "source": [
    "stats_mean_df = stats_set.groupby(\"cluster\").mean()\n",
    "stats_mean_df[\"cluster\"] = pd.Series([0, 1, 2, 3])"
   ]
  },
  {
   "cell_type": "markdown",
   "metadata": {
    "cell_id": "f7999a7efeb541c09068f10cb83df26f",
    "deepnote_cell_type": "markdown",
    "tags": []
   },
   "source": [
    "<h4>Overall Average for Total Points</h4>"
   ]
  },
  {
   "cell_type": "code",
   "execution_count": null,
   "metadata": {
    "cell_id": "637715112ab74feba6b514cc1fb439ab",
    "deepnote_cell_type": "code",
    "deepnote_to_be_reexecuted": false,
    "execution_millis": 359,
    "execution_start": 1670541293860,
    "source_hash": "4efb4a65",
    "tags": []
   },
   "outputs": [],
   "source": [
    "sns.barplot(x = \"cluster\",y = \"total_points\",data = stats_mean_df, palette = \"pastel\")\n",
    "plt.show()"
   ]
  },
  {
   "cell_type": "markdown",
   "metadata": {
    "cell_id": "2a4a6b0651cb45fbbac79d1a12f60f7e",
    "deepnote_cell_type": "markdown",
    "tags": []
   },
   "source": [
    "Based on the total points, <span><b style=\"color: limegreen\">cluster 2</b></span> has the highest mean of around 1.4 while <span><b style=\"color: tomato\">cluster 3</b></span> has the overall worst mean for the total points."
   ]
  },
  {
   "cell_type": "markdown",
   "metadata": {
    "cell_id": "d07342899cd24edf95941c571ac65932",
    "deepnote_cell_type": "markdown",
    "tags": []
   },
   "source": [
    "<h4>Top 10 Pokemon per cluster</h4>"
   ]
  },
  {
   "cell_type": "markdown",
   "metadata": {
    "cell_id": "6a1685fd3ebe4319982c08d09fb0423b",
    "deepnote_cell_type": "markdown",
    "tags": []
   },
   "source": [
    "After looking at the mean, we want to know who are the top 10 Pokemon per cluster. To filter observations based on cluster, use a condition that is equal to the cluster number we are targeting. The, sort the values in descending order using `sort_values()` and set ascending to `false`. Reset the indexes using the `.reset_index()` function and lastly, set the `.head()` to <b>10</b> to view the top 10 Pokemon in that cluster."
   ]
  },
  {
   "cell_type": "markdown",
   "metadata": {
    "cell_id": "c26dbeb7392e49cfba4144b3b04857ad",
    "deepnote_cell_type": "markdown",
    "tags": []
   },
   "source": [
    "<h5><span><b style=\"color: skyblue\">Cluster 0</b></span></h5>"
   ]
  },
  {
   "cell_type": "markdown",
   "metadata": {
    "cell_id": "113db6701ce94997861f4b6b8ea18e9f",
    "deepnote_cell_type": "markdown",
    "tags": []
   },
   "source": [
    "The list below reveals the top Pokemon of this cluster, with <b>Deoxys Attack Forme</b> taking the #1 spot with 600.0 points while <b>Delphox</b> takes the last spot with 534.0."
   ]
  },
  {
   "cell_type": "code",
   "execution_count": null,
   "metadata": {
    "cell_id": "bf00a3a4c3094609b001824afe4b575b",
    "deepnote_cell_type": "code",
    "deepnote_to_be_reexecuted": false,
    "execution_millis": 82,
    "execution_start": 1670541294224,
    "source_hash": "4f0d9df7",
    "tags": []
   },
   "outputs": [],
   "source": [
    "cluster_0_members = clustered_poke_df[clustered_poke_df[\"cluster\"] == 0].sort_values(\"total_points\", axis = 0, ascending = False).reset_index()\n",
    "cluster_0_members[[\"name\", \"total_points\"]].head(10)"
   ]
  },
  {
   "cell_type": "markdown",
   "metadata": {
    "cell_id": "f0dc93de46fa4b70986dcef5265c1725",
    "deepnote_cell_type": "markdown",
    "tags": []
   },
   "source": [
    "<h5><span><b style=\"color: orange\">Cluster 1</b></span></h5>"
   ]
  },
  {
   "cell_type": "markdown",
   "metadata": {
    "cell_id": "dba24690f36f4bf89d6b4f48077e10a9",
    "deepnote_cell_type": "markdown",
    "tags": []
   },
   "source": [
    "The list below reveals the top Pokemon of this cluster, with <b>Mega Aggron</b> taking the #1 spot with 630.0 points while <b>Regice</b> takes the last spot with 580.0."
   ]
  },
  {
   "cell_type": "code",
   "execution_count": null,
   "metadata": {
    "cell_id": "d9a217fd17734889b89eb5ca1dec148e",
    "deepnote_cell_type": "code",
    "deepnote_to_be_reexecuted": false,
    "execution_millis": 18,
    "execution_start": 1670541294313,
    "source_hash": "59706aae",
    "tags": []
   },
   "outputs": [],
   "source": [
    "cluster_1_members = clustered_poke_df[clustered_poke_df[\"cluster\"] == 1].sort_values(\"total_points\", axis = 0, ascending = False).reset_index()\n",
    "cluster_1_members[[\"name\", \"total_points\"]].head(10)"
   ]
  },
  {
   "cell_type": "markdown",
   "metadata": {
    "cell_id": "473739e6d3fc4b2b9ab44479b0af14b5",
    "deepnote_cell_type": "markdown",
    "tags": []
   },
   "source": [
    "<h5><span><b style=\"color: limegreen\">Cluster 2</b></span></h5>"
   ]
  },
  {
   "cell_type": "markdown",
   "metadata": {
    "cell_id": "cd700af18f484d2ca46387176b4ad955",
    "deepnote_cell_type": "markdown",
    "tags": []
   },
   "source": [
    "As the most powerful members of the cluster, <b>Eternatus Eternamax</b> taking the #1 spot with a whopping 1125.0 points while <b>Zacian Crowned Sword</b> takes the last spot with 720.0."
   ]
  },
  {
   "cell_type": "code",
   "execution_count": null,
   "metadata": {
    "cell_id": "8b14d053518441f09ac5959b3bb5c372",
    "deepnote_cell_type": "code",
    "deepnote_to_be_reexecuted": false,
    "execution_millis": 93,
    "execution_start": 1670541294332,
    "source_hash": "d2e27339",
    "tags": []
   },
   "outputs": [],
   "source": [
    "cluster_2_members = clustered_poke_df[clustered_poke_df[\"cluster\"] == 2].sort_values(\"total_points\", axis = 0, ascending = False).reset_index()\n",
    "cluster_2_members[[\"name\", \"total_points\"]].head(10)"
   ]
  },
  {
   "cell_type": "markdown",
   "metadata": {
    "cell_id": "bfb6d9ae502944a6bba9eab6081af0de",
    "deepnote_cell_type": "markdown",
    "tags": []
   },
   "source": [
    "<h5><span><b style=\"color: tomato\">Cluster 3</b></span></h5>"
   ]
  },
  {
   "cell_type": "markdown",
   "metadata": {
    "cell_id": "4678691ab18243c1be82577e610a9acb",
    "deepnote_cell_type": "markdown",
    "tags": []
   },
   "source": [
    "Lastly, as the cluster where the weakest Pokemon come to, <b>Onix</b> takes the #1 spot with 385.0 points while <b>Nidorina</b> takes the last spot with 365.0."
   ]
  },
  {
   "cell_type": "code",
   "execution_count": null,
   "metadata": {
    "cell_id": "bb818efd75054cba9dde2553dd57bc5f",
    "deepnote_cell_type": "code",
    "deepnote_to_be_reexecuted": false,
    "execution_millis": 69,
    "execution_start": 1670541294428,
    "source_hash": "c9e91bfe",
    "tags": []
   },
   "outputs": [],
   "source": [
    "cluster_3_members = clustered_poke_df[clustered_poke_df[\"cluster\"] == 3].sort_values(\"total_points\", axis = 0, ascending = False).reset_index()\n",
    "cluster_3_members[[\"name\", \"total_points\"]].head(10)"
   ]
  },
  {
   "cell_type": "markdown",
   "metadata": {
    "cell_id": "14d08a73a9dd406499e3cbe753d59aee",
    "deepnote_cell_type": "markdown",
    "tags": []
   },
   "source": [
    "<h4>Starters</h4>"
   ]
  },
  {
   "cell_type": "markdown",
   "metadata": {
    "cell_id": "ffec903484894129bdc36e78efda5258",
    "deepnote_cell_type": "markdown",
    "tags": []
   },
   "source": [
    "Starter Pokemon are a trainer's best friend. They are the first-ever Pokemon you will get once you enter your journey to becoming a Pokemon Trainer. Though, we sometimes wonder, <i>\"Who is the best starter of them all?\"</i>. Even though starter selection depends on the person's interests or biases, this notebook showcases factual data to convince you who is objectively the best starter.\n",
    "\n",
    "Upon inspection, we notice that all the base evolutions of the starters belong in <span><b style=\"color: tomato\">Cluster 3</b></span>. Each of their statistics are very low that they are challenging to use in competitive battles. \n",
    "\n",
    "We are to rank the base starters in terms of total points, the best starters tie for the #1 spot with total points of 320.0: <b>Popplio, Litten</b>, and <b>Rowlet</b> - the generation 7 starters.\n",
    "<figure>\n",
    "    <img src=\"https://external-content.duckduckgo.com/iu/?u=http%3A%2F%2F66.media.tumblr.com%2F5644587e63c22b05ab209a933d48ef20%2Ftumblr_ocutvsLXeu1v68t0mo1_500.gif&f=1&nofb=1&ipt=7eb95e2abad2699ed717174b5af40729d033a37f8dc32d6edf962ec760438f91&ipo=images\" style=\"width: 50%\">\n",
    "    <figcaption style=\"text-align: center\">Generation 7 Starters from left to right: Rowlet, Litten, Popplio</figcaption>\n",
    "</figure>"
   ]
  },
  {
   "cell_type": "code",
   "execution_count": null,
   "metadata": {
    "cell_id": "0c9ab5111d3244e991c0ce834dfce3ac",
    "deepnote_cell_type": "code",
    "deepnote_table_loading": false,
    "deepnote_table_state": {
     "filters": [],
     "pageIndex": 0,
     "pageSize": 10,
     "sortBy": []
    },
    "deepnote_to_be_reexecuted": false,
    "execution_millis": 22,
    "execution_start": 1670541294505,
    "source_hash": "1155bf47",
    "tags": []
   },
   "outputs": [],
   "source": [
    "clustered_poke_df[[\"name\", \"total_points\", \"cluster\"]].iloc[[0, 4, 9, 192, 195, 198, 299, 303, \n",
    "307, 464, 467, 470, 586, 589, 592, 756, 759, 762, 841, 844, 847, 940, 943, 946]].sort_values(\"total_points\", axis = 0, ascending = False)"
   ]
  },
  {
   "cell_type": "markdown",
   "metadata": {
    "cell_id": "310bcc3a78aa4dc3bfa42033e3e51e81",
    "deepnote_cell_type": "markdown",
    "tags": []
   },
   "source": [
    "However, if we are to look at the fully evolved starters, they no longer belong to the weakest cluster of the four. Rather, each starter has been categorized in varied clusters. <b>Swampert</b> ranks 1 out of 24 for the starter with 535.0 total points.\n",
    "<figure>\n",
    "    <img src=\"https://external-content.duckduckgo.com/iu/?u=http%3A%2F%2Fcdn.playbuzz.com%2Fcdn%2Fb9ec3838-45db-4439-97bc-3f1c535c0e3c%2F6cd30f1a-0011-40a9-8936-383cdccffa2e.gif&f=1&nofb=1&ipt=4b39cde4d105d3af61f3b95c1746ddf3461a1746cfe6c3c6add35b168c43199b&ipo=images\" style=\"width: 25%\">\n",
    "    <figcaption style=\"text-align: center\">Swampert from Generation 3</figcaption>\n",
    "</figure>"
   ]
  },
  {
   "cell_type": "code",
   "execution_count": null,
   "metadata": {
    "cell_id": "14a706b2e2164f899fc3b9f19619af1a",
    "deepnote_cell_type": "code",
    "deepnote_table_loading": false,
    "deepnote_table_state": {
     "filters": [],
     "pageIndex": 0,
     "pageSize": 10,
     "sortBy": []
    },
    "deepnote_to_be_reexecuted": false,
    "execution_millis": 10,
    "execution_start": 1670541294599,
    "source_hash": "eef08113",
    "tags": []
   },
   "outputs": [],
   "source": [
    "evolved_starters = clustered_poke_df[[\"name\", \"total_points\", \"cluster\"]].iloc[[2, 6, 11, 194, 197, 200, 301, 305, \n",
    "309, 466, 469, 472, 588, 591, 594, 758, 761, 764, 843, 846, 849, 942, 945, 948]].sort_values(\"total_points\", axis = 0, ascending = False)\n",
    "evolved_starters"
   ]
  },
  {
   "cell_type": "markdown",
   "metadata": {
    "cell_id": "ee9662b806764258b49bcfe0247eefc0",
    "deepnote_cell_type": "markdown",
    "tags": []
   },
   "source": [
    "If we want to know who are the most powerful starters of them all, we have to look at those who belong to <span><b style=\"color: limegreen\">Cluster 2</b></span>. The Top 3 starters from this cluster are: <b>(1) Typhlosion, (2) Charizard</b> and <b>(3) Primarina</b>.\n",
    "<figure>\n",
    "    <img src=\"https://external-content.duckduckgo.com/iu/?u=https%3A%2F%2Fprofessorlotus.com%2FSprites%2FTyphlosion.gif&f=1&nofb=1&ipt=dfc82b78a29f70e3fc00df1d99cf8a847bf09108ba519cb83aa78506479868f1&ipo=images\" style=\"width: 15%\">\n",
    "    <figcaption style=\"text-align: center\">Typhlosion from Generation 2</figcaption>\n",
    "</figure>\n",
    "<figure>\n",
    "    <img src=\"https://external-content.duckduckgo.com/iu/?u=https%3A%2F%2Fi.pinimg.com%2Foriginals%2F13%2F57%2F33%2F135733b07291badc8cb3c083d4fd90b0.gif&f=1&nofb=1&ipt=7019c080da34f170d3fa876b77013bee201c176e5d4a91ced9fe2506a25966e6&ipo=images\" style=\"width: 30%\">\n",
    "    <figcaption style=\"text-align: center\">Charizard from Generation 1</figcaption>\n",
    "</figure>\n",
    "<figure>\n",
    "    <img src=\"https://datadex.talzz.com/images/sprites/33_updated/730-primarina.gif\" style=\"width: 20%\">\n",
    "    <figcaption style=\"text-align: center\">Primarina from Generation 7</figcaption>\n",
    "</figure>"
   ]
  },
  {
   "cell_type": "code",
   "execution_count": null,
   "metadata": {
    "cell_id": "e936770297aa4c6ab9e7e6a3c121a278",
    "deepnote_cell_type": "code",
    "deepnote_to_be_reexecuted": false,
    "execution_millis": 11,
    "execution_start": 1670541294624,
    "source_hash": "fc39ebe4",
    "tags": []
   },
   "outputs": [],
   "source": [
    "evolved_starters[evolved_starters[\"cluster\"] == 2]"
   ]
  },
  {
   "cell_type": "markdown",
   "metadata": {
    "cell_id": "ef6b483be154447ba3123de8cc8f223e",
    "deepnote_cell_type": "markdown",
    "tags": []
   },
   "source": [
    "From <span><b style=\"color: skyblue\">Cluster 0</b></span>, the Top 3 starters from this cluster are: <b>(1) Infernape, (2) Delphox</b> and <b>(3) Inteleon</b>.\n",
    "<figure>\n",
    "    <img src=\"https://external-content.duckduckgo.com/iu/?u=https%3A%2F%2Fprofessorlotus.com%2FSprites%2FInfernape.gif&f=1&nofb=1&ipt=70e61312f6079525e1b2b50a56f7c6a28a371a762acb683ed6ff7cf8ba43e3e3&ipo=images\" style=\"width: 25%\">\n",
    "    <figcaption style=\"text-align: center\">Infernape from Generation 4</figcaption>\n",
    "</figure>\n",
    "<figure>\n",
    "    <img src=\"https://external-content.duckduckgo.com/iu/?u=http%3A%2F%2Fimg4.wikia.nocookie.net%2F__cb20140319093018%2Fpokemon%2Fimages%2F3%2F31%2FDelphox_XY.gif&f=1&nofb=1&ipt=4efe53c5708d929d94bfbe4f53a3c482117516fc6bdc498df53e8a74afa9b85c&ipo=images\" style=\"width: 20%\">\n",
    "    <figcaption style=\"text-align: center\">Delphox from Generation 6</figcaption>\n",
    "</figure>\n",
    "<figure>\n",
    "    <img src=\"https://external-content.duckduckgo.com/iu/?u=https%3A%2F%2Fimages.wikidexcdn.net%2Fmwuploads%2Fwikidex%2F8%2F81%2Flatest%2F20191201052530%2FInteleon_EpEc.gif&f=1&nofb=1&ipt=729fc1311983122eb0bb354c839b92b3aaaf51d159936eb2718d5bccd6eb6cc5&ipo=images\" style=\"width: 13%\">\n",
    "    <figcaption style=\"text-align: center\">Inteleon from Generation 8</figcaption>\n",
    "</figure>"
   ]
  },
  {
   "cell_type": "code",
   "execution_count": null,
   "metadata": {
    "cell_id": "28c26b1a743a4b96b881b27b7ef375de",
    "deepnote_cell_type": "code",
    "deepnote_to_be_reexecuted": false,
    "execution_millis": 2,
    "execution_start": 1670541294728,
    "source_hash": "6149d4ac",
    "tags": []
   },
   "outputs": [],
   "source": [
    "evolved_starters[evolved_starters[\"cluster\"] == 0]"
   ]
  },
  {
   "cell_type": "markdown",
   "metadata": {
    "cell_id": "0cdb49d30a504a58bfd658eb8303cd9a",
    "deepnote_cell_type": "markdown",
    "tags": []
   },
   "source": [
    "Finally, from <span><b style=\"color: orange\">Cluster 1</b></span>, the Top 3 starters from this cluster are: <b>(1) Swampert, (2) Chesnaught</b> and <b>(3) Incineroar</b>.\n",
    "<figure>\n",
    "    <img src=\"https://external-content.duckduckgo.com/iu/?u=http%3A%2F%2Fcdn.playbuzz.com%2Fcdn%2Fb9ec3838-45db-4439-97bc-3f1c535c0e3c%2F6cd30f1a-0011-40a9-8936-383cdccffa2e.gif&f=1&nofb=1&ipt=4b39cde4d105d3af61f3b95c1746ddf3461a1746cfe6c3c6add35b168c43199b&ipo=images\" style=\"width: 25%\">\n",
    "    <figcaption style=\"text-align: center\">Swampert from Generation 3</figcaption>\n",
    "</figure>\n",
    "<figure>\n",
    "    <img src=\"https://external-content.duckduckgo.com/iu/?u=http%3A%2F%2Fimg1.wikia.nocookie.net%2F__cb20140319091349%2Fpokemon%2Fimages%2Fa%2Fad%2FChesnaught_XY.gif&f=1&nofb=1&ipt=6490d8344367ef915dead8b70f4fa667cb801fcb0b7a588c28eaf9ea05bf5b40&ipo=images\" style=\"width: 30%\">\n",
    "    <figcaption style=\"text-align: center\">Chesnaught from Generation 6</figcaption>\n",
    "</figure>\n",
    "<figure>\n",
    "    <img src=\"https://external-content.duckduckgo.com/iu/?u=https%3A%2F%2Fprojectpokemon.org%2Fimages%2Fnormal-sprite%2Fincineroar.gif&f=1&nofb=1&ipt=a3b284ac590647535c2ac053570a5c436d92a8846b189255fbe0bbab28d1a709&ipo=images\" style=\"width: 30%\">\n",
    "    <figcaption style=\"text-align: center\">Incineroar from Generation 7</figcaption>\n",
    "</figure>"
   ]
  },
  {
   "cell_type": "code",
   "execution_count": null,
   "metadata": {
    "cell_id": "25a64419575f452e890db43519ede3c2",
    "deepnote_cell_type": "code",
    "deepnote_to_be_reexecuted": false,
    "execution_millis": 94,
    "execution_start": 1670541294729,
    "source_hash": "e3e422c7",
    "tags": []
   },
   "outputs": [],
   "source": [
    "evolved_starters[evolved_starters[\"cluster\"] == 1]"
   ]
  },
  {
   "cell_type": "markdown",
   "metadata": {
    "cell_id": "e241514734d549a0a82827c4be321753",
    "deepnote_cell_type": "markdown",
    "tags": []
   },
   "source": [
    "Based on the rankings above, we now finally know who are the top Pokemon per cluster.\n",
    "\n",
    "Once we are done exploring our data, we can proceed with statistical inference or hypothesis testing,"
   ]
  },
  {
   "cell_type": "markdown",
   "metadata": {
    "cell_id": "91fe123430864d9993281ffebfa24119",
    "deepnote_cell_type": "markdown"
   },
   "source": [
    "<h2>🔬 Statistical Inference 🔬</h2>"
   ]
  },
  {
   "cell_type": "markdown",
   "metadata": {
    "cell_id": "a7ba4b06ae644917971a45282b7f7753",
    "deepnote_cell_type": "markdown"
   },
   "source": [
    "Now that we have modelled our data using K-Means clustering and explored them, we will now perform hypothesis testing to reveal the answer to our research question. <b>Hypothesis testing</b> is done to prove or disprove our hypothesis based on a certain threshold."
   ]
  },
  {
   "cell_type": "markdown",
   "metadata": {
    "cell_id": "22e617c4c18d487586aa721f1ede0bc1",
    "deepnote_cell_type": "markdown",
    "tags": []
   },
   "source": [
    "<p style=\"font-weight: bold\">🤔 Research Question 🤔: <span style=\"color: #8aa1ff;\">What is the relation between pokemon generation and type 1 element to health points, defense, special attack, special defense, and speed?</span></p>"
   ]
  },
  {
   "cell_type": "markdown",
   "metadata": {
    "cell_id": "3f8aff0b837a4b67bd7b2ef9fabb25d5",
    "deepnote_cell_type": "markdown",
    "tags": []
   },
   "source": [
    "To start, install the statsmodels.formula.api then import `ols` from the `statsmodels.formula.api` package."
   ]
  },
  {
   "cell_type": "code",
   "execution_count": null,
   "metadata": {
    "cell_id": "5343e193d2384a27b2f51661e45c17a0",
    "deepnote_cell_type": "code",
    "deepnote_to_be_reexecuted": false,
    "execution_millis": 7498,
    "execution_start": 1670541294806,
    "source_hash": "c3a02df9",
    "tags": []
   },
   "outputs": [],
   "source": [
    "!pip install statsmodels==0.13.5"
   ]
  },
  {
   "cell_type": "code",
   "execution_count": null,
   "metadata": {
    "cell_id": "de679e05aeb944248adbb7e1b0e69365",
    "deepnote_cell_type": "code",
    "deepnote_to_be_reexecuted": false,
    "execution_millis": 108,
    "execution_start": 1670541302314,
    "source_hash": "d823b82",
    "tags": []
   },
   "outputs": [],
   "source": [
    "from statsmodels.formula.api import ols"
   ]
  },
  {
   "cell_type": "markdown",
   "metadata": {
    "cell_id": "5aa7677cd6da491bbb80f2badfe69537",
    "deepnote_cell_type": "markdown",
    "tags": []
   },
   "source": [
    "Since our research questions revolves around the idea on whether the clusters are similar or not, the <b>One Way F-test (ANOVA)</b> will be employed to determine how dissimilar the clusters are. This test specializes on finding out if the means of all groups are the same. The following hypotheses will be used:\n",
    "- <b>H<sub>O</sub>:</b> The clusters are similar\n",
    "- <b>H<sub>A</sub>:</b> At least one of the clusters are dissimilar\n",
    "\n",
    "To begin, group the Pokemon by cluster using `.groupby()`. Print a list of Pokemon belong to each cluster using a `for loop`."
   ]
  },
  {
   "cell_type": "code",
   "execution_count": null,
   "metadata": {
    "cell_id": "a0befbabdc2243c88fb2e20e7b7b3622",
    "deepnote_cell_type": "code",
    "deepnote_to_be_reexecuted": false,
    "execution_millis": 90,
    "execution_start": 1670541302423,
    "source_hash": "4ebb31f0",
    "tags": []
   },
   "outputs": [],
   "source": [
    "new_clustered_poke_df = clustered_poke_df.groupby([\"cluster\"])\n",
    "sets = ['name','status','generation','total_points', 'hp', 'attack','defense','sp_attack','sp_defense','speed','cluster']\n",
    "\n",
    "for i in range(0,4):\n",
    "    print(\"cluster \",i)\n",
    "    print(new_clustered_poke_df[sets].get_group(i).head(10))\n",
    "    print(\"\\n\")"
   ]
  },
  {
   "cell_type": "markdown",
   "metadata": {
    "cell_id": "5b882d0c9347486e95c8a854d83291f8",
    "deepnote_cell_type": "markdown",
    "tags": []
   },
   "source": [
    "Next, perform the test using `.f_oneway()` to compute for the f-Score and the p-value. Set the <b>significance level</b> to <b>α = 0.05</b> as the threshold for determining the significance of the resulting p-value. "
   ]
  },
  {
   "cell_type": "code",
   "execution_count": null,
   "metadata": {
    "cell_id": "113b60a636f14079b54176ac6989ab19",
    "deepnote_cell_type": "code",
    "deepnote_to_be_reexecuted": false,
    "execution_millis": 65,
    "execution_start": 1670541302528,
    "source_hash": "c2c3ddf4",
    "tags": []
   },
   "outputs": [],
   "source": [
    "sets = [\"total_points\",\"hp\",\"attack\",\"defense\",\"sp_attack\",\"sp_defense\",\"speed\"]\n",
    "clustered_poke_df[sets] = copy_poke_df[sets]\n",
    "\n",
    "new_clustered_poke_df = clustered_poke_df.groupby(\"cluster\")\n",
    "sets = ['hp', 'attack','defense','sp_attack','sp_defense','speed']\n",
    "cluster0 = []\n",
    "cluster1 = []\n",
    "cluster2 = []\n",
    "cluster3 = []\n",
    "\n",
    "cluster0 = new_clustered_poke_df[sets].get_group(0)\n",
    "cluster1 = new_clustered_poke_df[sets].get_group(1)\n",
    "cluster2 = new_clustered_poke_df[sets].get_group(2)\n",
    "cluster3 = new_clustered_poke_df[sets].get_group(3)\n",
    "\n",
    "# Identify whether there is any relationship within their spending scores\n",
    "F, p = stats.f_oneway(cluster0,cluster1,cluster2,cluster3)\n",
    "print('F-Score: ' + str(F))\n",
    "print('P-value: ' + str(p))\n",
    "\n",
    "for _ in p:\n",
    "    if _ < 0.05:\n",
    "        print('Reject Null hypothesis. Clusters are not similar')\n",
    "    else:\n",
    "        print('Accept Null hypothesis. Clusters are similar')"
   ]
  },
  {
   "cell_type": "markdown",
   "metadata": {
    "cell_id": "efcd8b249da949d293f57329e86225be",
    "deepnote_cell_type": "markdown",
    "tags": []
   },
   "source": [
    "After testing, the <b>f-scores</b> are <b>[191.50148188, 265.28037858, 305.77092542, 326.16211164, 295.52398644, 423.59848505]</b>.\n",
    "\n",
    "Moreover, the resulting <b>p-values</b> for each stat is <b>[1.43892319e-098, 2.31624906e-127, 1.03220488e-141, 1.32527294e-148, 3.62316869e-138, 7.11334581e-179]</b>. \n",
    "\n",
    "Since these p-values are less than the <b>significance level of 0.05</b>, we <b>reject the null hypothesis</b>. \n",
    "\n",
    "Therefore, we conclude that <b>the clusters are dissimilar (not similar)</b>."
   ]
  },
  {
   "cell_type": "markdown",
   "metadata": {
    "cell_id": "6203ffe9e9ef461ab7c07c34dfa9ae61",
    "deepnote_cell_type": "markdown",
    "tags": []
   },
   "source": [
    "<h3>Classifying Clusters</h3>"
   ]
  },
  {
   "cell_type": "code",
   "execution_count": null,
   "metadata": {
    "cell_id": "854ed80d9bd94d5299e9d7d45f204440",
    "deepnote_cell_type": "code",
    "deepnote_to_be_reexecuted": false,
    "execution_millis": 1,
    "execution_start": 1670541302597,
    "source_hash": "71a1f2b7",
    "tags": []
   },
   "outputs": [],
   "source": [
    "to_csv_poke_df = clustered_poke_df.copy()\n",
    "length = len(to_csv_poke_df)\n",
    "to_csv_poke_df[\"cluster_name\"] =\"none\"\n",
    "data = []"
   ]
  },
  {
   "cell_type": "markdown",
   "metadata": {
    "cell_id": "243dbb5507b243f28aeb24aaa13f1307",
    "deepnote_cell_type": "markdown",
    "tags": []
   },
   "source": [
    "If we look at the clusters of each starter Pokemon, their differences are noticeable once we analyze the features. To put them simply:\n",
    "- <span><b style=\"color: skyblue\">Cluster 0</b>:</span> Fragile sweeper\n",
    "- <span><b style=\"color: orange\">Cluster 1</b>:</span> Slow yet bulky\n",
    "- <span><b style=\"color: limegreen\">Cluster 2</b>:</span> Best overall\n",
    "- <span><b style=\"color: tomato\">Cluster 3</b>:</span> No potential for competitive"
   ]
  },
  {
   "cell_type": "code",
   "execution_count": null,
   "metadata": {
    "cell_id": "2f669147ed374e3aa0530359ed8d3367",
    "deepnote_cell_type": "code",
    "deepnote_to_be_reexecuted": false,
    "execution_millis": 1036,
    "execution_start": 1670541302602,
    "source_hash": "e4fe98c4",
    "tags": []
   },
   "outputs": [],
   "source": [
    "for i in range(0,length):\n",
    "    if(to_csv_poke_df.iloc[i][\"cluster\"] == 0):\n",
    "        data.append(\"Fragile sweeper\")\n",
    "    elif(to_csv_poke_df.iloc[i][\"cluster\"] == 1):\n",
    "        data.append(\"Slow yet bulky\")\n",
    "    elif(to_csv_poke_df.iloc[i][\"cluster\"] == 2):\n",
    "        data.append(\"Best overall\")\n",
    "    elif(to_csv_poke_df.iloc[i][\"cluster\"] == 3):\n",
    "        data.append(\"No potential for competitive\")\n",
    "\n",
    "to_csv_poke_df[\"cluster_name\"] = data\n",
    "\n",
    "sets = [\"name\",\"generation\",\"status\",\"type_1\",\"total_points\",\"hp\",\"attack\",\"defense\",\"sp_attack\",\"sp_defense\",\"speed\",\"cluster\",\"cluster_name\"]\n",
    "to_csv_poke_df = to_csv_poke_df[sets]\n",
    "sets = [\"total_points\",\"hp\",\"attack\",\"defense\",\"sp_attack\",\"sp_defense\",\"speed\"]\n",
    "to_csv_poke_df[sets] = copy_poke_df[sets]\n",
    "sets = [\"name\",\"generation\",\"status\",\"type_1\",\"total_points\",\"hp\",\"attack\",\"defense\",\"sp_attack\",\"sp_defense\",\"speed\",\"cluster\",\"cluster_name\"]\n",
    "to_csv_poke_df[sets].head(4)"
   ]
  },
  {
   "cell_type": "markdown",
   "metadata": {
    "cell_id": "b3a76ade364549f98e072ac3e9b3a65a",
    "deepnote_cell_type": "text-cell-p",
    "formattedRanges": [],
    "is_collapsed": false,
    "tags": []
   },
   "source": [
    "The median and mean health points, attack, defense, special attack, special defense, and speed of each cluster will be taken."
   ]
  },
  {
   "cell_type": "code",
   "execution_count": null,
   "metadata": {
    "cell_id": "a2e167fb369f4146b9e6889e53d69e1b",
    "deepnote_cell_type": "code",
    "deepnote_to_be_reexecuted": false,
    "execution_millis": 105,
    "execution_start": 1670541303636,
    "source_hash": "8d32e72f",
    "tags": []
   },
   "outputs": [],
   "source": [
    "to_csv_radar = to_csv_poke_df.groupby([\"cluster\"]).agg({\n",
    "    \"hp\":\"median\",\n",
    "    \"attack\":\"median\",\n",
    "    \"defense\":\"median\",\n",
    "    \"sp_attack\":\"median\",\n",
    "    \"sp_defense\":\"median\",\n",
    "    \"speed\":\"median\"\n",
    "})\n",
    "to_csv_radar\n",
    "\n",
    "to_csv_radar2 = to_csv_poke_df.groupby([\"cluster\"]).agg({\n",
    "    \"hp\":\"mean\",\n",
    "    \"attack\":\"mean\",\n",
    "    \"defense\":\"mean\",\n",
    "    \"sp_attack\":\"mean\",\n",
    "    \"sp_defense\":\"mean\",\n",
    "    \"speed\":\"mean\"\n",
    "})\n",
    "to_csv_radar2"
   ]
  },
  {
   "cell_type": "markdown",
   "metadata": {
    "cell_id": "51a3dec9aca242179a950ca0ad822316",
    "deepnote_cell_type": "markdown",
    "tags": []
   },
   "source": [
    "To support the argument stated above regarding the clusters, we take into account each statistic and then graph a radar chart."
   ]
  },
  {
   "cell_type": "code",
   "execution_count": null,
   "metadata": {
    "cell_id": "1409921c64d1409ebad3e0bc1c02620b",
    "deepnote_cell_type": "code",
    "deepnote_to_be_reexecuted": false,
    "execution_millis": 79,
    "execution_start": 1670541303737,
    "source_hash": "91833caf",
    "tags": []
   },
   "outputs": [],
   "source": [
    "to_csv_poke_df.to_csv(\"hierachy_poke.csv\")\n",
    "to_csv_radar.to_csv(\"radar_poke.csv\")\n",
    "to_csv_radar2.to_csv(\"radar_poke2.csv\")"
   ]
  },
  {
   "cell_type": "code",
   "execution_count": null,
   "metadata": {
    "cell_id": "2fbe524661644ccba45b9486407aade5",
    "deepnote_cell_type": "code",
    "deepnote_to_be_reexecuted": false,
    "execution_millis": 7,
    "execution_start": 1670541303820,
    "source_hash": "25cd23a4",
    "tags": []
   },
   "outputs": [],
   "source": [
    "df_from_cluster0 = poke_df[poke_df['pokedex_number'].isin(cluster0.index.values.tolist())]\n",
    "df_from_cluster1 = poke_df[poke_df['pokedex_number'].isin(cluster1.index.values.tolist())]\n",
    "df_from_cluster2 = poke_df[poke_df['pokedex_number'].isin(cluster2.index.values.tolist())]\n",
    "df_from_cluster3 = poke_df[poke_df['pokedex_number'].isin(cluster3.index.values.tolist())]"
   ]
  },
  {
   "cell_type": "markdown",
   "metadata": {
    "cell_id": "af2714358c6d41a89a787dfdd93e47d9",
    "deepnote_cell_type": "markdown",
    "tags": []
   },
   "source": [
    "<h4><span><b style=\"color: skyblue\">Cluster 0</b>:</span> Fragile sweeper</h4>"
   ]
  },
  {
   "cell_type": "code",
   "execution_count": null,
   "metadata": {
    "cell_id": "a4781d9696e242d7be5a983edfef3346",
    "deepnote_cell_type": "code",
    "deepnote_to_be_reexecuted": false,
    "execution_millis": 1025,
    "execution_start": 1670541303831,
    "source_hash": "c8da32ff",
    "tags": []
   },
   "outputs": [],
   "source": [
    "import plotly.graph_objects as go\n",
    "cols = poke_df.columns[16:22].tolist()\n",
    "fig = go.Figure()\n",
    "\n",
    "for index, row in df_from_cluster0.iterrows():\n",
    "    fig.add_trace(go.Scatterpolar(\n",
    "        r=row[cols].values.tolist(),\n",
    "        theta=cols,\n",
    "        fill='toself',\n",
    "        name=row[2]\n",
    "    ))\n",
    "\n",
    "fig.update_layout(\n",
    "  polar=dict(\n",
    "    radialaxis=dict(\n",
    "      visible=True\n",
    "    ),\n",
    "  ),\n",
    "  showlegend=True\n",
    ")\n",
    "\n",
    "fig.show()"
   ]
  },
  {
   "cell_type": "markdown",
   "metadata": {
    "cell_id": "aea0636f41bd4d7da8128a16d0d62380",
    "deepnote_cell_type": "markdown",
    "tags": []
   },
   "source": [
    "If we look at the radar chart of this cluster, their highest stats are <b>speed, attack</b>, and <b>special attack</b>. Yet, their special defense and defense are low. We can use the `.mean()` function to get the average points for this cluster."
   ]
  },
  {
   "cell_type": "code",
   "execution_count": null,
   "metadata": {
    "cell_id": "82912fdd7cd049959a2e1a59605e206e",
    "deepnote_cell_type": "code",
    "deepnote_to_be_reexecuted": false,
    "execution_millis": 12,
    "execution_start": 1670541304898,
    "source_hash": "5a74c18",
    "tags": []
   },
   "outputs": [],
   "source": [
    "cluster_0_df = clustered_poke_df[clustered_poke_df[\"cluster\"] == 0]\n",
    "cluster_0_df[[\"hp\", \"attack\", \"defense\", \"sp_attack\", \"sp_defense\", \"speed\"]].mean().sort_values(ascending = False)"
   ]
  },
  {
   "cell_type": "markdown",
   "metadata": {
    "cell_id": "b71090aaf4494b658812525adf4c918d",
    "deepnote_cell_type": "markdown",
    "tags": []
   },
   "source": [
    "Based on the results, we can assume that <span><b style=\"color: skyblue\">Cluster 0</b></span> houses Pokemon that are mixed attackers with quick reflexes yet as fragile as glass."
   ]
  },
  {
   "cell_type": "markdown",
   "metadata": {
    "cell_id": "e089d96449d84b3d880366d813772cfa",
    "deepnote_cell_type": "markdown",
    "tags": []
   },
   "source": [
    "<h4><span><b style=\"color: orange\">Cluster 1</b>:</span> Slow yet bulky</h4>"
   ]
  },
  {
   "cell_type": "code",
   "execution_count": null,
   "metadata": {
    "cell_id": "e8a1157baa874a3a830f10a46bb9f7aa",
    "deepnote_cell_type": "code",
    "deepnote_to_be_reexecuted": false,
    "execution_millis": 703,
    "execution_start": 1670541304932,
    "source_hash": "4fcbd798",
    "tags": []
   },
   "outputs": [],
   "source": [
    "for index, row in df_from_cluster1.iterrows():\n",
    "    fig.add_trace(go.Scatterpolar(\n",
    "        r=row[cols].values.tolist(),\n",
    "        theta=cols,\n",
    "        fill='toself',\n",
    "        name=row[2]\n",
    "    ))\n",
    "\n",
    "fig.update_layout(\n",
    "  polar=dict(\n",
    "    radialaxis=dict(\n",
    "      visible=True\n",
    "    ),\n",
    "  ),\n",
    "  showlegend=True\n",
    ")\n",
    "\n",
    "fig.show()"
   ]
  },
  {
   "cell_type": "markdown",
   "metadata": {
    "cell_id": "ef3adaa244464c23a07ba7450b115f9c",
    "deepnote_cell_type": "markdown",
    "tags": []
   },
   "source": [
    "If we look at the radar chart of this cluster, their highest stat is <b>defense</b>. In contrast to the fragile sweepers previously, this cluster has low average speed, making them the last to move in a battle."
   ]
  },
  {
   "cell_type": "code",
   "execution_count": null,
   "metadata": {
    "cell_id": "15dbd0cfd30f4ef6a046fe1ef956b061",
    "deepnote_cell_type": "code",
    "deepnote_to_be_reexecuted": false,
    "execution_millis": 10,
    "execution_start": 1670541305692,
    "source_hash": "7b5ee1a9",
    "tags": []
   },
   "outputs": [],
   "source": [
    "cluster_1_df = clustered_poke_df[clustered_poke_df[\"cluster\"] == 1]\n",
    "cluster_1_df[[\"hp\", \"attack\", \"defense\", \"sp_attack\", \"sp_defense\", \"speed\"]].mean().sort_values(ascending = False)"
   ]
  },
  {
   "cell_type": "markdown",
   "metadata": {
    "cell_id": "3682bc312bb04f81ad18e1839ceabc3c",
    "deepnote_cell_type": "markdown",
    "tags": []
   },
   "source": [
    "Based on the results, we can assume that <span><b style=\"color: orange\">Cluster 1</b></span> houses the slow yet ultra defensive walls made to stall the opponent's Pokemon."
   ]
  },
  {
   "cell_type": "markdown",
   "metadata": {
    "cell_id": "14a64f6358f84356af4ec80ff421d2b3",
    "deepnote_cell_type": "markdown",
    "tags": []
   },
   "source": [
    "<h4><span><b style=\"color: limegreen\">Cluster 2</b>:</span> Best overall</h4>"
   ]
  },
  {
   "cell_type": "code",
   "execution_count": null,
   "metadata": {
    "cell_id": "b1765e05c6b94a628f72fbaa3b4e38ba",
    "deepnote_cell_type": "code",
    "deepnote_to_be_reexecuted": false,
    "execution_millis": 297,
    "execution_start": 1670541305800,
    "source_hash": "2612999a",
    "tags": []
   },
   "outputs": [],
   "source": [
    "for index, row in df_from_cluster2.iterrows():\n",
    "    fig.add_trace(go.Scatterpolar(\n",
    "        r=row[cols].values.tolist(),\n",
    "        theta=cols,\n",
    "        fill='toself',\n",
    "        name=row[2]\n",
    "    ))\n",
    "\n",
    "fig.update_layout(\n",
    "  polar=dict(\n",
    "    radialaxis=dict(\n",
    "      visible=True\n",
    "    ),\n",
    "  ),\n",
    "  showlegend=True\n",
    ")\n",
    "\n",
    "fig.show()"
   ]
  },
  {
   "cell_type": "markdown",
   "metadata": {
    "cell_id": "b59ffd4bf70f49fc8483041e984e62d2",
    "deepnote_cell_type": "markdown",
    "tags": []
   },
   "source": [
    "If we look at the radar chart of this cluster, their highest stat are <b>attack</b> and <b>special attack</b>. Moreover, their special defense is also good, as well as their speed. Their lowest, however, is HP, which would mean that their energy can be drained quicker in battle."
   ]
  },
  {
   "cell_type": "code",
   "execution_count": null,
   "metadata": {
    "cell_id": "8f34a9ce00f741b0b3a46801a3e2138b",
    "deepnote_cell_type": "code",
    "deepnote_to_be_reexecuted": false,
    "execution_millis": 14,
    "execution_start": 1670541306098,
    "source_hash": "b81299c2",
    "tags": []
   },
   "outputs": [],
   "source": [
    "cluster_2_df = clustered_poke_df[clustered_poke_df[\"cluster\"] == 2]\n",
    "cluster_2_df[[\"hp\", \"attack\", \"defense\", \"sp_attack\", \"sp_defense\", \"speed\"]].mean().sort_values(ascending = False)"
   ]
  },
  {
   "cell_type": "markdown",
   "metadata": {
    "cell_id": "04b227ed15e84a6b9b3732d7069d57d6",
    "deepnote_cell_type": "markdown",
    "tags": []
   },
   "source": [
    "Based on the results, we can assume that <span><b style=\"color: limegreen\">Cluster 2</b></span> houses the Pokemon that have the potential for competitive battles."
   ]
  },
  {
   "cell_type": "markdown",
   "metadata": {
    "cell_id": "29dc94864d8e43978020003dbac440c1",
    "deepnote_cell_type": "markdown",
    "tags": []
   },
   "source": [
    "<h4><span><b style=\"color: tomato\">Cluster 3</b>:</span> No potential for competitive</h4>"
   ]
  },
  {
   "cell_type": "code",
   "execution_count": null,
   "metadata": {
    "cell_id": "4cffc3ae6db24cdda636917c238b1bb7",
    "deepnote_cell_type": "code",
    "deepnote_to_be_reexecuted": false,
    "execution_millis": 783,
    "execution_start": 1670541306111,
    "source_hash": "50d4fa53",
    "tags": []
   },
   "outputs": [],
   "source": [
    "for index, row in df_from_cluster3.iterrows():\n",
    "    fig.add_trace(go.Scatterpolar(\n",
    "        r=row[cols].values.tolist(),\n",
    "        theta=cols,\n",
    "        fill='toself',\n",
    "        name=row[2]\n",
    "    ))\n",
    "\n",
    "fig.update_layout(\n",
    "  polar=dict(\n",
    "    radialaxis=dict(\n",
    "      visible=True\n",
    "    ),\n",
    "  ),\n",
    "  showlegend=True\n",
    ")\n",
    "\n",
    "fig.show()"
   ]
  },
  {
   "cell_type": "markdown",
   "metadata": {
    "cell_id": "885767428ca64fcab8796c2e4e970142",
    "deepnote_cell_type": "markdown",
    "tags": []
   },
   "source": [
    "If we look at the radar chart of this cluster, their highest stat are <b>attack</b>. However, this is still the lowest when compared with the previous clusters. Since all of their stats are the lowest among the clusters, they have no use for competitive battling unless you are capable of their high maintenance nature."
   ]
  },
  {
   "cell_type": "code",
   "execution_count": null,
   "metadata": {
    "cell_id": "6aef41531b134fc4a2ecab20bf5f30a9",
    "deepnote_cell_type": "code",
    "deepnote_to_be_reexecuted": false,
    "execution_millis": 16,
    "execution_start": 1670541306899,
    "source_hash": "169fd5d3",
    "tags": []
   },
   "outputs": [],
   "source": [
    "cluster_3_df = clustered_poke_df[clustered_poke_df[\"cluster\"] == 3]\n",
    "cluster_3_df[[\"hp\", \"attack\", \"defense\", \"sp_attack\", \"sp_defense\", \"speed\"]].mean().sort_values(ascending = False)"
   ]
  },
  {
   "cell_type": "markdown",
   "metadata": {
    "cell_id": "03e44dbe89c34bebae528d5c5f96d2b9",
    "deepnote_cell_type": "markdown",
    "tags": []
   },
   "source": [
    "Based on the results, we can assume that <span><b style=\"color: tomato\">Cluster 3</b></span> houses the Pokemon that should be used at your own risk unless you only want to keep them as pets at home."
   ]
  },
  {
   "cell_type": "markdown",
   "metadata": {
    "cell_id": "389e25e65f85493fae8691f8131a9399",
    "deepnote_cell_type": "markdown",
    "tags": []
   },
   "source": [
    "<h3>Median and Mean</3>"
   ]
  },
  {
   "cell_type": "markdown",
   "metadata": {
    "cell_id": "03932f484f6b441298ec34e175bbfd86",
    "deepnote_cell_type": "markdown",
    "tags": []
   },
   "source": [
    "To gather better information from the individual data of each Pokemon, the median and mean radar charts are shown to know which cluster is the best and the worst in each stat. To graph a radar chart, import the `display` and `HTML` from the `IPython.core.display` package."
   ]
  },
  {
   "cell_type": "code",
   "execution_count": null,
   "metadata": {
    "cell_id": "c8dde183b86a4d40b5f65aabd9cfff39",
    "deepnote_cell_type": "code",
    "tags": []
   },
   "outputs": [],
   "source": [
    "from IPython.core.display import display, HTML"
   ]
  },
  {
   "cell_type": "markdown",
   "metadata": {
    "cell_id": "302df4e9e95e42129850942c29330a2d",
    "deepnote_cell_type": "markdown",
    "tags": []
   },
   "source": [
    "<h4>Median</h4>"
   ]
  },
  {
   "cell_type": "markdown",
   "metadata": {
    "cell_id": "e6c91302c415493bbb88f3876b4b3a13",
    "deepnote_cell_type": "markdown",
    "tags": []
   },
   "source": [
    "The radar chart of the median of each clusters are shown below"
   ]
  },
  {
   "cell_type": "code",
   "execution_count": null,
   "metadata": {
    "cell_id": "58b1dd8f9f084499986f95bf73b6f308",
    "deepnote_cell_type": "code",
    "deepnote_to_be_reexecuted": false,
    "execution_millis": 51,
    "execution_start": 1670541306916,
    "source_hash": "ee970eb7",
    "tags": []
   },
   "outputs": [],
   "source": [
    "display(HTML('<div class=\"flourish-embed flourish-radar\" data-src=\"visualisation/12108136\"><script src=\"https://public.flourish.studio/resources/embed.js\"></script></div>'))\n"
   ]
  },
  {
   "cell_type": "markdown",
   "metadata": {
    "cell_id": "7f8adc065cec43e28e0726b75a967683",
    "deepnote_cell_type": "markdown",
    "tags": []
   },
   "source": [
    "Like before, <span><b style=\"color: limegreen\">Cluster 2</b></span> dominates all stats while <span><b style=\"color: tomato\">Cluster 3</b></span> is the weakest cluster."
   ]
  },
  {
   "cell_type": "markdown",
   "metadata": {
    "cell_id": "0640bf443a7f4c51845a63bb5ae8418a",
    "deepnote_cell_type": "markdown",
    "tags": []
   },
   "source": [
    "<h4>Mean</h4>"
   ]
  },
  {
   "cell_type": "markdown",
   "metadata": {
    "cell_id": "75f55743fcd140818402321279c5185e",
    "deepnote_cell_type": "markdown",
    "tags": []
   },
   "source": [
    "The radar chart of the means of each clusters are also shown below"
   ]
  },
  {
   "cell_type": "code",
   "execution_count": null,
   "metadata": {
    "cell_id": "813cce47b4e04523ab50927dd8e30480",
    "deepnote_cell_type": "code",
    "deepnote_to_be_reexecuted": false,
    "execution_millis": 4,
    "execution_start": 1670541306963,
    "source_hash": "71b23883",
    "tags": []
   },
   "outputs": [],
   "source": [
    "display(HTML('<div class=\"flourish-embed flourish-radar\" data-src=\"visualisation/12108618\"><script src=\"https://public.flourish.studio/resources/embed.js\"></script></div>'))\n"
   ]
  },
  {
   "cell_type": "markdown",
   "metadata": {
    "cell_id": "326c5b03ce5c47e19c68f125b1078d87",
    "deepnote_cell_type": "markdown",
    "tags": []
   },
   "source": [
    "Like before, <span><b style=\"color: limegreen\">Cluster 2</b></span> dominates all stats while <span><b style=\"color: tomato\">Cluster 3</b></span> is the weakest cluster."
   ]
  },
  {
   "cell_type": "markdown",
   "metadata": {
    "cell_id": "0b546bc590bf4bc8a2c3885f0748b37e",
    "deepnote_cell_type": "markdown",
    "tags": []
   },
   "source": [
    "<h3>Clusters of Generations and Elements</3>"
   ]
  },
  {
   "cell_type": "markdown",
   "metadata": {
    "cell_id": "6ba26765938449d989a0261876e31af3",
    "deepnote_cell_type": "markdown",
    "tags": []
   },
   "source": [
    "The cluster below groups Pokemon in terms of generation first followed by their primary typing. The display is interactive. Click on a cluster to view its subclusters of generations and typing."
   ]
  },
  {
   "cell_type": "code",
   "execution_count": null,
   "metadata": {
    "cell_id": "836f797e183a490190a27c7db1ae3945",
    "deepnote_cell_type": "code",
    "deepnote_to_be_reexecuted": false,
    "execution_millis": 0,
    "execution_start": 1670541432775,
    "source_hash": "d1369cef",
    "tags": []
   },
   "outputs": [],
   "source": [
    "display(HTML('<div class=\"flourish-embed flourish-hierarchy\" data-src=\"visualisation/12105634\"><script src=\"https://public.flourish.studio/resources/embed.js\"></script></div>'))"
   ]
  },
  {
   "cell_type": "markdown",
   "metadata": {
    "cell_id": "b5c2087d85ae4f0fab5f58990fed37a8",
    "deepnote_cell_type": "markdown",
    "tags": []
   },
   "source": [
    "In <span><b style=\"color: purple\">Cluster 0 (ranged attacker with good mobility)</b></span>, although <b>Normal</b> and <b>Water</b> seem to stand out more, there are not a lot of type 1 elements that stand out so much. As per generation, <b>generation 1</b> dominates this cluster with 59 total Pokémon and second place goes to generation 5 with 44 total Pokémon"
   ]
  },
  {
   "cell_type": "markdown",
   "metadata": {
    "cell_id": "3d1e0b7e6bb447a8b4814e061d190081",
    "deepnote_cell_type": "markdown",
    "tags": []
   },
   "source": [
    "In <span><b style=\"color: orange\">Cluster 1(Physical type that can tank and damage)</b></span>, since they are known as the physical type that can tank and take hits very well, <b>rock</b> and <b>steel</b> seem to dominate this cluster more by having larger counts than the other elements. As per generation, there does not seem to be much of a significant difference in frequency where <b>generation 1</b> having 40 total Pokémon generation 3 having 39 total Pokémon and generation 5 having a total of 38 Pokémon."
   ]
  },
  {
   "cell_type": "markdown",
   "metadata": {
    "cell_id": "2b700382e0d846f28e08a3218e7f42d0",
    "deepnote_cell_type": "markdown",
    "tags": []
   },
   "source": [
    "In <span><b style=\"color: hotpink\">Cluster 2 (permanent ban because of OP statistics)</b></span>, you can notice that <b>dragon</b> and <b>psychic</b> have larger clusters than the other elements. This is expected because these are known to be a very strong pair. <b>Generation 3</b> consists a total of 30 Pokémon, making it the most frequent one in this cluster. However, it does not matter that much because Generation 5 and 4 come out to having 27 and 26 Pokémon respectively. You could say these generations are the most apparent in this cluster."
   ]
  },
  {
   "cell_type": "markdown",
   "metadata": {
    "cell_id": "da578835d29748d589a67ad9d2386c85",
    "deepnote_cell_type": "markdown",
    "tags": []
   },
   "source": [
    "Lastly, in <span><b style=\"color: blue\">Cluster 3 (group of weak pokemon)</b></span>, <b>water</b> seems to stand out the most as it has larger clusters compared to the other type 1 elements. On the other hand, <b>generation 1</b> and 5 seem to dominate this cluster having 68 and 62 total Pokémon respectively."
   ]
  },
  {
   "cell_type": "markdown",
   "metadata": {
    "cell_id": "60ec4bab5dbf4aeea7ba90da50aa5544",
    "deepnote_cell_type": "markdown",
    "tags": []
   },
   "source": [
    "<p style=\"color: skyblue; font-weight: bold\">📖 Now that the whole process of data preprocessing, data modelling, exploratory data analysis, and statistical inference, we can finally come up with our conclusion based on the results. 📚</p>"
   ]
  },
  {
   "cell_type": "markdown",
   "metadata": {
    "cell_id": "d32e4bcf03bc4684b171b334982ca7b4",
    "deepnote_cell_type": "markdown"
   },
   "source": [
    "<h2>💡 Insights and Conclusion 💡</h2>"
   ]
  },
  {
   "cell_type": "markdown",
   "metadata": {
    "cell_id": "4f0db587f9fd4341a77e66e7a0f035b7",
    "deepnote_cell_type": "markdown",
    "tags": []
   },
   "source": [
    "<h3>Which generation is best to use?</h3>"
   ]
  },
  {
   "cell_type": "markdown",
   "metadata": {
    "cell_id": "14aa50defd7849bc8a4401e778a305c2",
    "deepnote_cell_type": "markdown",
    "tags": []
   },
   "source": [
    "Generation-wise, there were not a lot of differences to say which generation is the \"strongest\" or the \"best\" to use. Most of the generations seem pretty equal despite generation 3 dominating the overpowered cluster 2. \n",
    "\n",
    "There are many choices of Pokémon you can choose among each generation so it is best to not be so worried on which generation to use to have stronger Pokémon. It all depends in the region/game the trainer/user is in. Some games limit you to only use Pokemon exclusive to the region, while some games allow foreign Pokemon in their region upon transfer.\n",
    "\n",
    "In short, <b>there is no \"best\" generation</b>. "
   ]
  },
  {
   "cell_type": "markdown",
   "metadata": {
    "cell_id": "8902760c73ec4bc48fcb0f3331320d9b",
    "deepnote_cell_type": "markdown",
    "tags": []
   },
   "source": [
    "<h3>Which type 1 element is best to use?</h3>"
   ]
  },
  {
   "cell_type": "markdown",
   "metadata": {
    "cell_id": "0ab93ae327f84ac3a7a764be7ce5a1ba",
    "deepnote_cell_type": "markdown",
    "tags": []
   },
   "source": [
    "As seen in cluster 2, <b>psychic</b> and <b>dragon</b> type 1 element is best to use. Since cluster 2 dominates all the clusters in all statistics but defense, it is best to find Pokémon of these elements to dominate in battle. \n",
    "\n",
    "However, if you would like Pokémon that is good on defense, it best to use <b>rock</b> and <b>steel</b> Pokémon as seen on cluster 1 because, statistically, their defense is better than even those on the overpowered cluster. "
   ]
  },
  {
   "cell_type": "markdown",
   "metadata": {
    "cell_id": "8281356745d0428bb2ed3e8c896a08f2",
    "deepnote_cell_type": "markdown",
    "tags": []
   },
   "source": [
    "<h2>💌 The End ✉️</h2>"
   ]
  },
  {
   "cell_type": "markdown",
   "metadata": {
    "cell_id": "2e58d7e9340e436ba49d11bf81ae6cd8",
    "deepnote_cell_type": "markdown",
    "tags": []
   },
   "source": [
    "You have reached the end of the notebook. This project is done by <b>DAYON, Elijah, ERMITANO, Kate Justine,</b> and <b>LLAMADO, Jon</b> as a requirement to pass CSMODEL under the instructions of <b>Sir Arren Matthew C. Antioquia</b>, submitted on December 9, 2022."
   ]
  },
  {
   "cell_type": "markdown",
   "metadata": {
    "created_in_deepnote_cell": true,
    "deepnote_cell_type": "markdown",
    "tags": []
   },
   "source": [
    "<a style='text-decoration:none;line-height:16px;display:flex;color:#5B5B62;padding:10px;justify-content:end;' href='https://deepnote.com?utm_source=created-in-deepnote-cell&projectId=c26f6b62-b819-4c99-9d10-2b13381c9f87' target=\"_blank\">\n",
    "<img alt='Created in deepnote.com' style='display:inline;max-height:16px;margin:0px;margin-right:7.5px;' src='data:image/svg+xml;base64,PD94bWwgdmVyc2lvbj0iMS4wIiBlbmNvZGluZz0iVVRGLTgiPz4KPHN2ZyB3aWR0aD0iODBweCIgaGVpZ2h0PSI4MHB4IiB2aWV3Qm94PSIwIDAgODAgODAiIHZlcnNpb249IjEuMSIgeG1sbnM9Imh0dHA6Ly93d3cudzMub3JnLzIwMDAvc3ZnIiB4bWxuczp4bGluaz0iaHR0cDovL3d3dy53My5vcmcvMTk5OS94bGluayI+CiAgICA8IS0tIEdlbmVyYXRvcjogU2tldGNoIDU0LjEgKDc2NDkwKSAtIGh0dHBzOi8vc2tldGNoYXBwLmNvbSAtLT4KICAgIDx0aXRsZT5Hcm91cCAzPC90aXRsZT4KICAgIDxkZXNjPkNyZWF0ZWQgd2l0aCBTa2V0Y2guPC9kZXNjPgogICAgPGcgaWQ9IkxhbmRpbmciIHN0cm9rZT0ibm9uZSIgc3Ryb2tlLXdpZHRoPSIxIiBmaWxsPSJub25lIiBmaWxsLXJ1bGU9ImV2ZW5vZGQiPgogICAgICAgIDxnIGlkPSJBcnRib2FyZCIgdHJhbnNmb3JtPSJ0cmFuc2xhdGUoLTEyMzUuMDAwMDAwLCAtNzkuMDAwMDAwKSI+CiAgICAgICAgICAgIDxnIGlkPSJHcm91cC0zIiB0cmFuc2Zvcm09InRyYW5zbGF0ZSgxMjM1LjAwMDAwMCwgNzkuMDAwMDAwKSI+CiAgICAgICAgICAgICAgICA8cG9seWdvbiBpZD0iUGF0aC0yMCIgZmlsbD0iIzAyNjVCNCIgcG9pbnRzPSIyLjM3NjIzNzYyIDgwIDM4LjA0NzY2NjcgODAgNTcuODIxNzgyMiA3My44MDU3NTkyIDU3LjgyMTc4MjIgMzIuNzU5MjczOSAzOS4xNDAyMjc4IDMxLjY4MzE2ODMiPjwvcG9seWdvbj4KICAgICAgICAgICAgICAgIDxwYXRoIGQ9Ik0zNS4wMDc3MTgsODAgQzQyLjkwNjIwMDcsNzYuNDU0OTM1OCA0Ny41NjQ5MTY3LDcxLjU0MjI2NzEgNDguOTgzODY2LDY1LjI2MTk5MzkgQzUxLjExMjI4OTksNTUuODQxNTg0MiA0MS42NzcxNzk1LDQ5LjIxMjIyODQgMjUuNjIzOTg0Niw0OS4yMTIyMjg0IEMyNS40ODQ5Mjg5LDQ5LjEyNjg0NDggMjkuODI2MTI5Niw0My4yODM4MjQ4IDM4LjY0NzU4NjksMzEuNjgzMTY4MyBMNzIuODcxMjg3MSwzMi41NTQ0MjUgTDY1LjI4MDk3Myw2Ny42NzYzNDIxIEw1MS4xMTIyODk5LDc3LjM3NjE0NCBMMzUuMDA3NzE4LDgwIFoiIGlkPSJQYXRoLTIyIiBmaWxsPSIjMDAyODY4Ij48L3BhdGg+CiAgICAgICAgICAgICAgICA8cGF0aCBkPSJNMCwzNy43MzA0NDA1IEwyNy4xMTQ1MzcsMC4yNTcxMTE0MzYgQzYyLjM3MTUxMjMsLTEuOTkwNzE3MDEgODAsMTAuNTAwMzkyNyA4MCwzNy43MzA0NDA1IEM4MCw2NC45NjA0ODgyIDY0Ljc3NjUwMzgsNzkuMDUwMzQxNCAzNC4zMjk1MTEzLDgwIEM0Ny4wNTUzNDg5LDc3LjU2NzA4MDggNTMuNDE4MjY3Nyw3MC4zMTM2MTAzIDUzLjQxODI2NzcsNTguMjM5NTg4NSBDNTMuNDE4MjY3Nyw0MC4xMjg1NTU3IDM2LjMwMzk1NDQsMzcuNzMwNDQwNSAyNS4yMjc0MTcsMzcuNzMwNDQwNSBDMTcuODQzMDU4NiwzNy43MzA0NDA1IDkuNDMzOTE5NjYsMzcuNzMwNDQwNSAwLDM3LjczMDQ0MDUgWiIgaWQ9IlBhdGgtMTkiIGZpbGw9IiMzNzkzRUYiPjwvcGF0aD4KICAgICAgICAgICAgPC9nPgogICAgICAgIDwvZz4KICAgIDwvZz4KPC9zdmc+' > </img>\n",
    "Created in <span style='font-weight:600;margin-left:4px;'>Deepnote</span></a>"
   ]
  }
 ],
 "metadata": {
  "deepnote": {},
  "deepnote_execution_queue": [],
  "deepnote_notebook_id": "993d72bb8baa4d4794cea9812ae39685",
  "kernelspec": {
   "display_name": "Python 3 (ipykernel)",
   "language": "python",
   "name": "python3"
  },
  "language_info": {
   "codemirror_mode": {
    "name": "ipython",
    "version": 3
   },
   "file_extension": ".py",
   "mimetype": "text/x-python",
   "name": "python",
   "nbconvert_exporter": "python",
   "pygments_lexer": "ipython3",
   "version": "3.9.12"
  }
 },
 "nbformat": 4,
 "nbformat_minor": 1
}
